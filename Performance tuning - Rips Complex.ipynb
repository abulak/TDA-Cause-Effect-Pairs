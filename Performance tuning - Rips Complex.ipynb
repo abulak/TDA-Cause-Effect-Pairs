{
 "cells": [
  {
   "cell_type": "code",
   "execution_count": 1,
   "metadata": {
    "collapsed": false
   },
   "outputs": [
    {
     "name": "stdout",
     "output_type": "stream",
     "text": [
      "/home/kalmar/Mathematics/Research/MPI Tuebingen/TDA-Cause-Effect-Pairs\n"
     ]
    }
   ],
   "source": [
    "import os\n",
    "initial_dir = os.getcwd()\n",
    "print(initial_dir)"
   ]
  },
  {
   "cell_type": "code",
   "execution_count": 3,
   "metadata": {
    "collapsed": false
   },
   "outputs": [],
   "source": [
    "import numpy as np\n",
    "import matplotlib.pyplot as plt\n",
    "%matplotlib inline\n",
    "\n",
    "import re\n",
    "import sys\n",
    "import time\n",
    "\n",
    "sys.path.append(\"/home/kalmar/Mathematics/Research/MPI Tuebingen/Dionysus-python3/build/bindings/python\")\n",
    "\n",
    "%reload_ext autoreload\n",
    "%autoreload 2\n",
    "\n",
    "import dionysus\n",
    "\n",
    "import logging\n",
    "logger = logging.getLogger()\n",
    "logger.setLevel(logging.INFO)\n",
    "\n",
    "import TDA\n",
    "tsp = __import__(\"topology-summary-plotter\")\n",
    "out_i = __import__(\"identify-outliers\")\n",
    "sampler = __import__(\"points-sampler\")\n",
    "os.chdir(initial_dir)"
   ]
  },
  {
   "cell_type": "code",
   "execution_count": 4,
   "metadata": {
    "collapsed": false
   },
   "outputs": [
    {
     "name": "stdout",
     "output_type": "stream",
     "text": [
      "0 pair0052.txt (10226, 8)\n",
      "1 pair0053.txt (989, 4)\n",
      "2 pair0054.txt (392, 5)\n",
      "3 pair0055.txt (72, 32)\n",
      "4 pair0071.txt (120, 8)\n",
      "5 pair0081.txt (365, 3)\n",
      "6 pair0082.txt (365, 3)\n",
      "7 pair0083.txt (365, 3)\n"
     ]
    }
   ],
   "source": [
    "pattern = re.compile('pair00..\\.txt')\n",
    "files = sorted([x for x in os.listdir('./pairs/') if pattern.match(x)])\n",
    "file_names = []\n",
    "dir_names = []\n",
    "for f in files:\n",
    "    with open(\"./pairs/\" + f) as points:\n",
    "        x = points.readline()\n",
    "        if len(x.split()) > 2:\n",
    "            file_names.append(f)\n",
    "            dir_names.append(f[:-4])\n",
    "            \n",
    "for i, f in enumerate(file_names):\n",
    "    x = np.loadtxt('./pairs/'+f)\n",
    "    print(i, f, x.shape)"
   ]
  },
  {
   "cell_type": "code",
   "execution_count": 5,
   "metadata": {
    "collapsed": false
   },
   "outputs": [
    {
     "name": "stdout",
     "output_type": "stream",
     "text": [
      "(3000, 8)\n"
     ]
    },
    {
     "data": {
      "text/plain": [
       "array([-1.12157885, -1.12804363, -1.13075389, -1.13338204, -1.13692543,\n",
       "       -1.12943448, -1.12384011, -1.1242145 ])"
      ]
     },
     "execution_count": 5,
     "metadata": {},
     "output_type": "execute_result"
    }
   ],
   "source": [
    "i = 0\n",
    "points = np.loadtxt('./test/'+dir_names[i]+\"/std_points\")\n",
    "print(points.shape)\n",
    "points[35]"
   ]
  },
  {
   "cell_type": "code",
   "execution_count": 6,
   "metadata": {
    "collapsed": false
   },
   "outputs": [
    {
     "name": "stderr",
     "output_type": "stream",
     "text": [
      "INFO:root:Creating GeometricComplex on 500 points\n",
      "INFO:root:Variable X range: 4 5 6 7\n",
      "INFO:root:Variable Y range: 0 1 2 3\n",
      "INFO:root:Using Rips-complex with radius 2.828427. This may be slow for dense sets!\n",
      "INFO:root:Created rips full complex of size 58709\n",
      "INFO:root:The threshold 2.104506 limits the complex size to 44615\n"
     ]
    }
   ],
   "source": [
    "xrange= range(4,8)\n",
    "yrange= range(0,4)\n",
    "g_complex = TDA.GeometricComplex(points[:500], xrange, yrange, full_initialisation=False)"
   ]
  },
  {
   "cell_type": "code",
   "execution_count": 7,
   "metadata": {
    "collapsed": false
   },
   "outputs": [],
   "source": [
    "%lprun -f TDA.GeometricComplex.filtered_complex f_complex = g_complex.filtered_complex(3)"
   ]
  },
  {
   "cell_type": "code",
   "execution_count": 8,
   "metadata": {
    "collapsed": false
   },
   "outputs": [
    {
     "name": "stdout",
     "output_type": "stream",
     "text": [
      " "
     ]
    }
   ],
   "source": [
    "%prun f_complex = g_complex.filtered_complex(3)"
   ]
  },
  {
   "cell_type": "code",
   "execution_count": 9,
   "metadata": {
    "collapsed": true
   },
   "outputs": [],
   "source": [
    "import pickle"
   ]
  },
  {
   "cell_type": "code",
   "execution_count": 11,
   "metadata": {
    "collapsed": false
   },
   "outputs": [],
   "source": [
    "pickle_string = pickle.dumps(g_complex.limited_complex)"
   ]
  },
  {
   "cell_type": "code",
   "execution_count": 12,
   "metadata": {
    "collapsed": false
   },
   "outputs": [
    {
     "data": {
      "text/plain": [
       "40"
      ]
     },
     "execution_count": 12,
     "metadata": {},
     "output_type": "execute_result"
    }
   ],
   "source": [
    "len(pickle_string)"
   ]
  },
  {
   "cell_type": "code",
   "execution_count": 13,
   "metadata": {
    "collapsed": false
   },
   "outputs": [
    {
     "name": "stdout",
     "output_type": "stream",
     "text": [
      "b'\\x80\\x03cdionysus._dionysus\\nFiltration\\nq\\x00)Rq\\x01.'\n"
     ]
    }
   ],
   "source": [
    "print(pickle_string)"
   ]
  },
  {
   "cell_type": "code",
   "execution_count": null,
   "metadata": {
    "collapsed": true
   },
   "outputs": [],
   "source": []
  }
 ],
 "metadata": {
  "kernelspec": {
   "display_name": "Python 3",
   "language": "python",
   "name": "python3"
  },
  "language_info": {
   "codemirror_mode": {
    "name": "ipython",
    "version": 3
   },
   "file_extension": ".py",
   "mimetype": "text/x-python",
   "name": "python",
   "nbconvert_exporter": "python",
   "pygments_lexer": "ipython3",
   "version": "3.5.0"
  }
 },
 "nbformat": 4,
 "nbformat_minor": 0
}
