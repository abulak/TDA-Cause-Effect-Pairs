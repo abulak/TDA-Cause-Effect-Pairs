{
 "cells": [
  {
   "cell_type": "code",
   "execution_count": 1,
   "metadata": {
    "collapsed": false
   },
   "outputs": [
    {
     "name": "stdout",
     "output_type": "stream",
     "text": [
      "/home/kalmar/Mathematics/Research/MPI Tuebingen/TDA-Cause-Effect-Pairs\n"
     ]
    }
   ],
   "source": [
    "import os\n",
    "initial_dir = os.getcwd()\n",
    "print(initial_dir)"
   ]
  },
  {
   "cell_type": "code",
   "execution_count": 5,
   "metadata": {
    "collapsed": false
   },
   "outputs": [],
   "source": [
    "import numpy as np\n",
    "import matplotlib.pyplot as plt\n",
    "%matplotlib inline\n",
    "\n",
    "import re\n",
    "import sys\n",
    "import time\n",
    "\n",
    "sys.path.append(\"/home/kalmar/Mathematics/Research/MPI Tuebingen/Dionysus-python3/build/bindings/python\")\n",
    "\n",
    "%reload_ext autoreload\n",
    "%autoreload 2\n",
    "\n",
    "import dionysus\n",
    "\n",
    "import logging\n",
    "logger = logging.getLogger()\n",
    "logger.setLevel(logging.INFO)\n",
    "\n",
    "import TDA\n",
    "tsp = __import__(\"topology-summary-plotter\")\n",
    "out_i = __import__(\"identify-outliers\")\n",
    "sampler = __import__(\"points-sampler\")\n",
    "os.chdir(initial_dir)"
   ]
  },
  {
   "cell_type": "code",
   "execution_count": 3,
   "metadata": {
    "collapsed": false,
    "scrolled": true
   },
   "outputs": [
    {
     "data": {
      "image/png": "[encoded data removed]",
      "text/plain": [
       "<matplotlib.figure.Figure at 0xab2435ec>"
      ]
     },
     "metadata": {},
     "output_type": "display_data"
    },
    {
     "name": "stdout",
     "output_type": "stream",
     "text": [
      "[[ 0.          3.16227766  1.          2.82842712]\n",
      " [ 3.16227766  0.          2.23606798  1.41421356]\n",
      " [ 1.          2.23606798  0.          2.23606798]\n",
      " [ 2.82842712  1.41421356  2.23606798  0.        ]]\n"
     ]
    }
   ],
   "source": [
    "from scipy.spatial.distance import cdist\n",
    "pts = np.array([[0,0],[3,1],[1,0],[2,2]], dtype=np.float)\n",
    "plt.scatter(pts[:,0], pts[:,1])\n",
    "plt.show()\n",
    "distances = cdist(pts, pts)\n",
    "print(distances)"
   ]
  },
  {
   "cell_type": "code",
   "execution_count": 4,
   "metadata": {
    "collapsed": false
   },
   "outputs": [
    {
     "name": "stdout",
     "output_type": "stream",
     "text": [
      "0 pair0052.txt (10226, 8)\n",
      "1 pair0053.txt (989, 4)\n",
      "2 pair0054.txt (392, 5)\n",
      "3 pair0055.txt (72, 32)\n",
      "4 pair0071.txt (120, 8)\n",
      "5 pair0081.txt (365, 3)\n",
      "6 pair0082.txt (365, 3)\n",
      "7 pair0083.txt (365, 3)\n",
      "Loading ./test/pair0052/std_points of shape (3000, 8)\n"
     ]
    }
   ],
   "source": [
    "pattern = re.compile('pair00..\\.txt')\n",
    "files = sorted([x for x in os.listdir('./pairs/') if pattern.match(x)])\n",
    "file_names = []\n",
    "dir_names = []\n",
    "for f in files:\n",
    "    with open(\"./pairs/\" + f) as points:\n",
    "        x = points.readline()\n",
    "        if len(x.split()) > 2:\n",
    "            file_names.append(f)\n",
    "            dir_names.append(f[:-4])\n",
    "            \n",
    "for i, f in enumerate(file_names):\n",
    "    x = np.loadtxt('./pairs/'+f)\n",
    "    print(i, f, x.shape)\n",
    "    \n",
    "i = 0\n",
    "large_points = np.loadtxt('./test/'+dir_names[i]+\"/std_points\")\n",
    "print(\"Loading\", './test/'+dir_names[i]+\"/std_points\", \"of shape\", large_points.shape)\n"
   ]
  },
  {
   "cell_type": "code",
   "execution_count": 177,
   "metadata": {
    "collapsed": true
   },
   "outputs": [],
   "source": [
    "points = np.loadtxt('./test/pair0001/std_points')"
   ]
  },
  {
   "cell_type": "code",
   "execution_count": 178,
   "metadata": {
    "collapsed": false
   },
   "outputs": [
    {
     "name": "stderr",
     "output_type": "stream",
     "text": [
      "INFO:root:Creating GeometricComplex on 349 points\n",
      "INFO:root:Variable X range: 0\n",
      "INFO:root:Variable Y range: 1\n",
      "INFO:root:Created alpha full complex of size 1361\n",
      "--- Logging error ---\n",
      "Traceback (most recent call last):\n",
      "  File \"/usr/lib/python3.5/logging/__init__.py\", line 980, in emit\n",
      "    msg = self.format(record)\n",
      "  File \"/usr/lib/python3.5/logging/__init__.py\", line 830, in format\n",
      "    return fmt.format(record)\n",
      "  File \"/usr/lib/python3.5/logging/__init__.py\", line 567, in format\n",
      "    record.message = record.getMessage()\n",
      "  File \"/usr/lib/python3.5/logging/__init__.py\", line 330, in getMessage\n",
      "    msg = msg % self.args\n",
      "TypeError: a float is required\n",
      "Call stack:\n",
      "  File \"/usr/lib/python3.5/runpy.py\", line 170, in _run_module_as_main\n",
      "    \"__main__\", mod_spec)\n",
      "  File \"/usr/lib/python3.5/runpy.py\", line 85, in _run_code\n",
      "    exec(code, run_globals)\n",
      "  File \"/usr/lib/python3.5/site-packages/ipykernel/__main__.py\", line 3, in <module>\n",
      "    app.launch_new_instance()\n",
      "  File \"/usr/lib/python3.5/site-packages/traitlets/config/application.py\", line 592, in launch_instance\n",
      "    app.start()\n",
      "  File \"/usr/lib/python3.5/site-packages/ipykernel/kernelapp.py\", line 403, in start\n",
      "    ioloop.IOLoop.instance().start()\n",
      "  File \"/usr/lib/python3.5/site-packages/zmq/eventloop/ioloop.py\", line 151, in start\n",
      "    super(ZMQIOLoop, self).start()\n",
      "  File \"/usr/lib/python3.5/site-packages/tornado/ioloop.py\", line 866, in start\n",
      "    handler_func(fd_obj, events)\n",
      "  File \"/usr/lib/python3.5/site-packages/tornado/stack_context.py\", line 275, in null_wrapper\n",
      "    return fn(*args, **kwargs)\n",
      "  File \"/usr/lib/python3.5/site-packages/zmq/eventloop/zmqstream.py\", line 433, in _handle_events\n",
      "    self._handle_recv()\n",
      "  File \"/usr/lib/python3.5/site-packages/zmq/eventloop/zmqstream.py\", line 465, in _handle_recv\n",
      "    self._run_callback(callback, msg)\n",
      "  File \"/usr/lib/python3.5/site-packages/zmq/eventloop/zmqstream.py\", line 407, in _run_callback\n",
      "    callback(*args, **kwargs)\n",
      "  File \"/usr/lib/python3.5/site-packages/tornado/stack_context.py\", line 275, in null_wrapper\n",
      "    return fn(*args, **kwargs)\n",
      "  File \"/usr/lib/python3.5/site-packages/ipykernel/kernelbase.py\", line 260, in dispatcher\n",
      "    return self.dispatch_shell(stream, msg)\n",
      "  File \"/usr/lib/python3.5/site-packages/ipykernel/kernelbase.py\", line 212, in dispatch_shell\n",
      "    handler(stream, idents, msg)\n",
      "  File \"/usr/lib/python3.5/site-packages/ipykernel/kernelbase.py\", line 370, in execute_request\n",
      "    user_expressions, allow_stdin)\n",
      "  File \"/usr/lib/python3.5/site-packages/ipykernel/ipkernel.py\", line 175, in do_execute\n",
      "    shell.run_cell(code, store_history=store_history, silent=silent)\n",
      "  File \"/usr/lib/python3.5/site-packages/IPython/core/interactiveshell.py\", line 2902, in run_cell\n",
      "    interactivity=interactivity, compiler=compiler, result=result)\n",
      "  File \"/usr/lib/python3.5/site-packages/IPython/core/interactiveshell.py\", line 3012, in run_ast_nodes\n",
      "    if self.run_code(code, result):\n",
      "  File \"/usr/lib/python3.5/site-packages/IPython/core/interactiveshell.py\", line 3066, in run_code\n",
      "    exec(code_obj, self.user_global_ns, self.user_ns)\n",
      "  File \"<ipython-input-178-448cd19da608>\", line 1, in <module>\n",
      "    TDA.GeometricComplex(points)\n",
      "  File \"/home/kalmar/Mathematics/Research/MPI Tuebingen/TDA-Cause-Effect-Pairs/TDA.py\", line 179, in __init__\n",
      "    threshold=self.the_cutoff)\n",
      "  File \"/home/kalmar/Mathematics/Research/MPI Tuebingen/TDA-Cause-Effect-Pairs/TDA.py\", line 336, in create_limited_complex\n",
      "    \"%d\", threshold, len(limited_simplices))\n",
      "Message: 'The threshold %f limits the complex size to %d'\n",
      "Arguments: ((7.947667686019981, True), 1349)\n",
      "INFO:root:Created the annotated complex\n",
      "INFO:root:X-variable: Projecting on 0-th axis\n",
      "INFO:root:Y-variable: Projecting on 1-th axis\n"
     ]
    },
    {
     "ename": "TypeError",
     "evalue": "__init__() missing 2 required positional arguments: 'axis' and 'inverse'",
     "output_type": "error",
     "traceback": [
      "\u001b[1;31m---------------------------------------------------------------------------\u001b[0m",
      "\u001b[1;31mTypeError\u001b[0m                                 Traceback (most recent call last)",
      "\u001b[1;32m<ipython-input-178-448cd19da608>\u001b[0m in \u001b[0;36m<module>\u001b[1;34m()\u001b[0m\n\u001b[1;32m----> 1\u001b[1;33m \u001b[0mTDA\u001b[0m\u001b[1;33m.\u001b[0m\u001b[0mGeometricComplex\u001b[0m\u001b[1;33m(\u001b[0m\u001b[0mpoints\u001b[0m\u001b[1;33m)\u001b[0m\u001b[1;33m\u001b[0m\u001b[0m\n\u001b[0m",
      "\u001b[1;32m/home/kalmar/Mathematics/Research/MPI Tuebingen/TDA-Cause-Effect-Pairs/TDA.py\u001b[0m in \u001b[0;36m__init__\u001b[1;34m(self, cleaned_data, x_range, y_range, full_initialisation)\u001b[0m\n\u001b[0;32m    198\u001b[0m                 \u001b[0mlogging\u001b[0m\u001b[1;33m.\u001b[0m\u001b[0minfo\u001b[0m\u001b[1;33m(\u001b[0m\u001b[1;34m\"Y-variable: Projecting on %d-th axis\"\u001b[0m\u001b[1;33m,\u001b[0m \u001b[0mi\u001b[0m\u001b[1;33m)\u001b[0m\u001b[1;33m\u001b[0m\u001b[0m\n\u001b[0;32m    199\u001b[0m                 self.y_filtrations.append(FilteredComplex(\n\u001b[1;32m--> 200\u001b[1;33m                     self.filtered_complex(i)))\n\u001b[0m\u001b[0;32m    201\u001b[0m                 self.y_inv_filtrations.append(FilteredComplex(\n\u001b[0;32m    202\u001b[0m                     self.filtered_complex(i, inverse=True)))\n",
      "\u001b[1;31mTypeError\u001b[0m: __init__() missing 2 required positional arguments: 'axis' and 'inverse'"
     ]
    }
   ],
   "source": [
    "TDA.GeometricComplex(points)"
   ]
  },
  {
   "cell_type": "code",
   "execution_count": 176,
   "metadata": {
    "collapsed": false
   },
   "outputs": [
    {
     "name": "stderr",
     "output_type": "stream",
     "text": [
      "INFO:root:Creating GeometricComplex on 500 points\n",
      "INFO:root:Variable X range: 0\n",
      "INFO:root:Variable Y range: 1\n",
      "INFO:root:Using Rips-complex with radius 2.828427. This may be slow for dense sets!\n",
      "INFO:root:Created rips full complex of size 58689\n",
      "INFO:root:The threshold 2.109278 limits the complex size to 44690\n",
      "INFO:root:Created the annotated complex\n"
     ]
    }
   ],
   "source": [
    "%lprun -f TDA.GeometricComplex.sweep_function cmplx = TDA.GeometricComplex(large_points[:500],full_initialisation=False)"
   ]
  },
  {
   "cell_type": "code",
   "execution_count": 110,
   "metadata": {
    "collapsed": false
   },
   "outputs": [
    {
     "data": {
      "text/plain": [
       "[-2.2455013589890909,\n",
       " -2.2573019872605093,\n",
       " -2.2431361516593689,\n",
       " -2.2391408028371669,\n",
       " -2.245366421333447,\n",
       " -2.229416890281148,\n",
       " -2.211061125569123,\n",
       " -2.1918904978913192]"
      ]
     },
     "execution_count": 110,
     "metadata": {},
     "output_type": "execute_result"
    }
   ],
   "source": [
    "cmplx.minima"
   ]
  },
  {
   "cell_type": "code",
   "execution_count": 121,
   "metadata": {
    "collapsed": false
   },
   "outputs": [
    {
     "name": "stdout",
     "output_type": "stream",
     "text": [
      "[-4.67970549 -4.70211636 -4.65781118 -4.62503451 -4.61992718 -4.63206339\n",
      " -4.61957836 -4.6118303 ]\n"
     ]
    }
   ],
   "source": [
    "A = cmplx.filtered_complex(0)\n",
    "print(A[0].data[0]+cmplx.minima)"
   ]
  },
  {
   "cell_type": "code",
   "execution_count": 173,
   "metadata": {
    "collapsed": false
   },
   "outputs": [
    {
     "name": "stdout",
     "output_type": "stream",
     "text": [
      "[[-2.26000607 -2.2681755  -2.24956143 -2.24088951 -2.24364259 -2.23011299\n",
      "  -2.21332256 -2.19705561]\n",
      " [-2.33985275 -2.35105818 -2.32890559 -2.31251726 -2.30996359 -2.3160317\n",
      "  -2.30978918 -2.30591515]]\n"
     ]
    }
   ],
   "source": [
    "simplex = A[2]\n",
    "vertices = simplex.vertices\n",
    "simplex_real_coordinates = np.empty((2,large_points.shape[1]))\n",
    "simplex_real_coordinates[0] = large_points[next(vertices)]\n",
    "simplex_real_coordinates[1] = large_points[next(vertices)]\n",
    "print(simplex_real_coordinates)"
   ]
  },
  {
   "cell_type": "code",
   "execution_count": 174,
   "metadata": {
    "collapsed": false
   },
   "outputs": [
    {
     "name": "stdout",
     "output_type": "stream",
     "text": [
      "[array([-2.26000607, -2.2681755 , -2.24956143, -2.24088951, -2.24364259,\n",
      "       -2.23011299, -2.21332256, -2.19705561]), array([-2.33985275, -2.35105818, -2.32890559, -2.31251726, -2.30996359,\n",
      "       -2.3160317 , -2.30978918, -2.30591515])]\n"
     ]
    }
   ],
   "source": [
    "simplex = A[2]\n",
    "vertices = simplex.vertices\n",
    "simplex_real_coordinates2 = [large_points[next(vertices)],\n",
    "                                        large_points[next(vertices)]]\n",
    "print(simplex_real_coordinates2)"
   ]
  },
  {
   "cell_type": "code",
   "execution_count": 113,
   "metadata": {
    "collapsed": false
   },
   "outputs": [
    {
     "name": "stdout",
     "output_type": "stream",
     "text": [
      "<26> 0.0\n",
      "<86> 0.095194652697\n",
      "<26, 86> 0.095194652697\n",
      "<90> 0.117846392345\n",
      "<86, 90> 0.117846392345\n",
      "<26, 90> 0.117846392345\n",
      "<92> 0.299060309527\n",
      "<86, 92> 0.299060309527\n",
      "<90, 92> 0.299060309527\n",
      "<26, 92> 0.299060309527\n",
      "<27> 0.643710829231\n",
      "<27, 92> 0.643710829231\n",
      "<27, 86> 0.643710829231\n",
      "<27, 90> 0.643710829231\n",
      "<26, 27> 0.643710829231\n",
      "<44> 0.693888733514\n",
      "<27, 44> 0.693888733514\n",
      "<44, 92> 0.693888733514\n",
      "<44, 86> 0.693888733514\n",
      "<44, 90> 0.693888733514\n"
     ]
    }
   ],
   "source": [
    "for i in range (20):\n",
    "    print(A[i], A[i].data[0][0])"
   ]
  },
  {
   "cell_type": "code",
   "execution_count": 115,
   "metadata": {
    "collapsed": false
   },
   "outputs": [
    {
     "name": "stdout",
     "output_type": "stream",
     "text": [
      "<26, 86>\n",
      "minimum: -2.24550135899\n",
      "26\n",
      "-2.24550135899\n",
      "0.0\n",
      "86\n",
      "-2.15030670629\n",
      "0.095194652697\n"
     ]
    }
   ],
   "source": [
    "z = A[2]\n",
    "print(z)\n",
    "m = cmplx.minima[0]\n",
    "print(\"minimum:\", m)\n",
    "for i in z.vertices:\n",
    "    print(i)\n",
    "    print(large_points[i][0])\n",
    "    print(large_points[i][0]-m)"
   ]
  },
  {
   "cell_type": "code",
   "execution_count": 148,
   "metadata": {
    "collapsed": false
   },
   "outputs": [],
   "source": [
    "size = 100000\n",
    "a = np.array([np.random.rand(6) for i in range(size)])\n",
    "b = np.array([np.random.rand(6) for i in range(size)])\n",
    "c = np.array([a,b])"
   ]
  },
  {
   "cell_type": "code",
   "execution_count": 158,
   "metadata": {
    "collapsed": false
   },
   "outputs": [
    {
     "name": "stdout",
     "output_type": "stream",
     "text": [
      "100 loops, best of 3: 9.93 ms per loop\n"
     ]
    }
   ],
   "source": [
    "%timeit z = np.amax(c,axis=0)"
   ]
  },
  {
   "cell_type": "code",
   "execution_count": 161,
   "metadata": {
    "collapsed": false
   },
   "outputs": [
    {
     "name": "stdout",
     "output_type": "stream",
     "text": [
      "100 loops, best of 3: 8.89 ms per loop\n"
     ]
    }
   ],
   "source": [
    "%timeit np.maximum(c[0], c[1])"
   ]
  },
  {
   "cell_type": "code",
   "execution_count": 21,
   "metadata": {
    "collapsed": false
   },
   "outputs": [
    {
     "name": "stderr",
     "output_type": "stream",
     "text": [
      "INFO:root:Using Rips-complex with radius 2.000000. This may be slow for dense sets!\n",
      "INFO:root:Created rips full complex of size 42769\n",
      "INFO:root:Using Rips-complex with radius 2.000000. This may be slow for dense sets!\n",
      "INFO:root:Created rips full complex of size 42769\n",
      "INFO:root:Using Rips-complex with radius 2.000000. This may be slow for dense sets!\n",
      "INFO:root:Created rips full complex of size 42769\n",
      "INFO:root:Using Rips-complex with radius 2.000000. This may be slow for dense sets!\n",
      "INFO:root:Created rips full complex of size 42769\n"
     ]
    },
    {
     "name": "stdout",
     "output_type": "stream",
     "text": [
      "1 loops, best of 3: 1.1 s per loop\n"
     ]
    }
   ],
   "source": [
    "%%timeit \n",
    "cmplx.full_complex = cmplx.create_full_complex(radius=2)\n",
    "cmplx.compute_the_last_death()"
   ]
  },
  {
   "cell_type": "code",
   "execution_count": 24,
   "metadata": {
    "collapsed": false
   },
   "outputs": [
    {
     "name": "stderr",
     "output_type": "stream",
     "text": [
      "INFO:root:Using Rips-complex with radius 2.000000. This may be slow for dense sets!\n",
      "INFO:root:Created rips full complex of size 42769\n",
      "WARNING:root:The complex seems to be disconnected?!\n",
      "WARNING:root:The complex seems to be disconected, doubling the threshold\n",
      "INFO:root:Using Rips-complex with radius 4.000000. This may be slow for dense sets!\n",
      "INFO:root:Created rips full complex of size 82434\n",
      "INFO:root:Using Rips-complex with radius 2.000000. This may be slow for dense sets!\n",
      "INFO:root:Created rips full complex of size 42769\n",
      "WARNING:root:The complex seems to be disconnected?!\n",
      "WARNING:root:The complex seems to be disconected, doubling the threshold\n",
      "INFO:root:Using Rips-complex with radius 4.000000. This may be slow for dense sets!\n",
      "INFO:root:Created rips full complex of size 82434\n",
      "INFO:root:Using Rips-complex with radius 2.000000. This may be slow for dense sets!\n",
      "INFO:root:Created rips full complex of size 42769\n",
      "WARNING:root:The complex seems to be disconnected?!\n",
      "WARNING:root:The complex seems to be disconected, doubling the threshold\n",
      "INFO:root:Using Rips-complex with radius 4.000000. This may be slow for dense sets!\n",
      "INFO:root:Created rips full complex of size 82434\n",
      "INFO:root:Using Rips-complex with radius 2.000000. This may be slow for dense sets!\n",
      "INFO:root:Created rips full complex of size 42769\n",
      "WARNING:root:The complex seems to be disconnected?!\n",
      "WARNING:root:The complex seems to be disconected, doubling the threshold\n",
      "INFO:root:Using Rips-complex with radius 4.000000. This may be slow for dense sets!\n",
      "INFO:root:Created rips full complex of size 82434\n"
     ]
    },
    {
     "name": "stdout",
     "output_type": "stream",
     "text": [
      "1 loops, best of 3: 3.51 s per loop\n"
     ]
    }
   ],
   "source": [
    "%timeit cmplx.compute_the_last_death2(2)"
   ]
  },
  {
   "cell_type": "code",
   "execution_count": null,
   "metadata": {
    "collapsed": false
   },
   "outputs": [],
   "source": [
    "begin = time.clock()\n",
    "simplex_list = []\n",
    "for x in cmplx.full_complex:\n",
    "    v = x.vertices\n",
    "    if x.dimension() == 0:\n",
    "        simplex_list.append([next(v)])\n",
    "    elif x.dimension() == 1:\n",
    "        simplex_list.append([next(v), next(v)])\n",
    "end = time.clock()\n",
    "print(end-begin)"
   ]
  },
  {
   "cell_type": "code",
   "execution_count": null,
   "metadata": {
    "collapsed": false
   },
   "outputs": [],
   "source": [
    "begin = time.clock()\n",
    "i=4\n",
    "for x in simplex_list:\n",
    "    if len(x) == 1:\n",
    "        z = large_points[x[0]][i]\n",
    "    elif len(x) == 2:\n",
    "        z = max(large_points[x[0]][i], large_points[x[1]][i])\n",
    "    else: \n",
    "        pass\n",
    "end = time.clock()\n",
    "print(end - begin)"
   ]
  },
  {
   "cell_type": "code",
   "execution_count": null,
   "metadata": {
    "collapsed": false
   },
   "outputs": [],
   "source": [
    "z = dionysus.Simplex([1], (23,34,234,56,234))\n",
    "print(z, z.data)"
   ]
  },
  {
   "cell_type": "code",
   "execution_count": null,
   "metadata": {
    "collapsed": false
   },
   "outputs": [],
   "source": [
    "begin = time.clock()\n",
    "large_list = large_points.tolist()\n",
    "i=4\n",
    "for x in simplex_list:\n",
    "    if len(x) == 1:\n",
    "        z = large_list[x[0]][i]\n",
    "    elif len(x) == 2:\n",
    "        z = max(large_list[x[0]][i], large_list[x[1]][i])\n",
    "    else: \n",
    "        pass\n",
    "end = time.clock()\n",
    "print(end-begin)"
   ]
  },
  {
   "cell_type": "code",
   "execution_count": null,
   "metadata": {
    "collapsed": false
   },
   "outputs": [],
   "source": [
    "runs = 5\n",
    "timings = []\n",
    "for j in range(100, 1001, 100):\n",
    "    time_to_build = 0\n",
    "    time_to_sort = 0\n",
    "    for i in range(runs):\n",
    "        begin = time.clock()\n",
    "        X = exact_rips_graph2(large_points[:j],3)\n",
    "        end = time.clock()\n",
    "        time_to_build += end-begin\n",
    "        X.sort(dionysus.data_dim_cmp)\n",
    "        end2 = time.clock()\n",
    "        time_to_sort += end2-end\n",
    "    \n",
    "    timings.append([j,len(X), time_to_build/runs, time_to_sort/runs])\n",
    "    print(timings[-1],flush=True)"
   ]
  },
  {
   "cell_type": "code",
   "execution_count": null,
   "metadata": {
    "collapsed": false
   },
   "outputs": [],
   "source": [
    "runs = 5\n",
    "timings3 = []\n",
    "for j in range(100, 1001, 100):\n",
    "    time_to_build = 0\n",
    "    time_to_sort = 0\n",
    "    time_for_filtration = 0\n",
    "    for i in range(runs):\n",
    "        begin = time.clock()\n",
    "        X = exact_rips_graph3(large_points[:j],3)\n",
    "        end = time.clock()\n",
    "        time_to_build += end-begin\n",
    "        X.sort(key = lambda x: x.data)\n",
    "        end2 = time.clock()\n",
    "        time_to_sort += end2-end\n",
    "        Z = dionysus.Filtration(X)\n",
    "        end3 = time.clock()\n",
    "        time_for_filtration += end3-end2\n",
    "        \n",
    "    timings3.append([j,len(X), time_to_build/runs, time_to_sort/runs, time_for_filtration/runs])\n",
    "    print(timings3[-1],flush=True)"
   ]
  },
  {
   "cell_type": "code",
   "execution_count": null,
   "metadata": {
    "collapsed": false
   },
   "outputs": [],
   "source": [
    "t1 = np.array(timings)\n",
    "t3 = np.array(timings3)\n",
    "plt.figure(figsize=(10,10))\n",
    "plt.plot(t3[:,0],t3[:,2]+t3[:,4], label=\"list-building\")\n",
    "plt.plot(t1[:,0],t1[:,2], label=\"dion-building\")\n",
    "plt.plot(t3[:,0],t3[:,3], label=\"list-sorting\")\n",
    "plt.plot(t1[:,0],t1[:,3], label=\"dion-sorting\")\n",
    "plt.plot(t3[:,0],t3[:,2]+t3[:,3]+t3[:,4], label=\"list-total\")\n",
    "plt.plot(t1[:,0],t1[:,2]+t1[:,3], label=\"dion-total\")\n",
    "\n",
    "plt.legend(loc=0)\n",
    "plt.show()"
   ]
  },
  {
   "cell_type": "code",
   "execution_count": null,
   "metadata": {
    "collapsed": false
   },
   "outputs": [],
   "source": [
    "size = 10000000\n",
    "limit = 1000\n",
    "indices = np.random.randint(0,size,size)\n",
    "\n",
    "large_points = np.random.randint(0,limit,size)\n",
    "large_list = large_points.tolist()\n",
    "large_points[:10]"
   ]
  },
  {
   "cell_type": "code",
   "execution_count": null,
   "metadata": {
    "collapsed": false
   },
   "outputs": [],
   "source": [
    "%%timeit\n",
    "for i in indices:\n",
    "    large_points[i]"
   ]
  },
  {
   "cell_type": "code",
   "execution_count": null,
   "metadata": {
    "collapsed": false
   },
   "outputs": [],
   "source": [
    "%%timeit\n",
    "for i in indices:\n",
    "    large_list[i]"
   ]
  },
  {
   "cell_type": "code",
   "execution_count": null,
   "metadata": {
    "collapsed": false
   },
   "outputs": [],
   "source": [
    "z = dionysus.Simplex([1,2,3], [12,23])"
   ]
  },
  {
   "cell_type": "code",
   "execution_count": null,
   "metadata": {
    "collapsed": false
   },
   "outputs": [],
   "source": [
    "z.data"
   ]
  },
  {
   "cell_type": "code",
   "execution_count": null,
   "metadata": {
    "collapsed": false
   },
   "outputs": [],
   "source": [
    "for i in range(12000,12050):\n",
    "    print(cmplx.full_complex[i])"
   ]
  },
  {
   "cell_type": "code",
   "execution_count": 7,
   "metadata": {
    "collapsed": false
   },
   "outputs": [
    {
     "ename": "NameError",
     "evalue": "name 'cmplx' is not defined",
     "output_type": "error",
     "traceback": [
      "\u001b[1;31m---------------------------------------------------------------------------\u001b[0m",
      "\u001b[1;31mNameError\u001b[0m                                 Traceback (most recent call last)",
      "\u001b[1;32m<ipython-input-7-033fd2b24bbd>\u001b[0m in \u001b[0;36m<module>\u001b[1;34m()\u001b[0m\n\u001b[1;32m----> 1\u001b[1;33m \u001b[0msimplex\u001b[0m \u001b[1;33m=\u001b[0m \u001b[0mcmplx\u001b[0m\u001b[1;33m.\u001b[0m\u001b[0mfull_complex\u001b[0m\u001b[1;33m[\u001b[0m\u001b[1;36m12000\u001b[0m\u001b[1;33m]\u001b[0m\u001b[1;33m\u001b[0m\u001b[0m\n\u001b[0m\u001b[0;32m      2\u001b[0m \u001b[0msimplex\u001b[0m\u001b[1;33m\u001b[0m\u001b[0m\n",
      "\u001b[1;31mNameError\u001b[0m: name 'cmplx' is not defined"
     ]
    }
   ],
   "source": [
    "simplex = cmplx.full_complex[12000]\n",
    "simplex"
   ]
  },
  {
   "cell_type": "code",
   "execution_count": null,
   "metadata": {
    "collapsed": false
   },
   "outputs": [],
   "source": [
    "x = simplex.vertices\n",
    "if simplex.dimension() == 0:\n",
    "    simplex_real_coordinates = large_points[next(x)]\n",
    "elif simplex.dimension() == 1:\n",
    "    a = next(x)\n",
    "    b = next(x)\n",
    "    print(a,b)\n",
    "    simplex_real_coordinates = [large_points[a],large_points[b]]\n",
    "else:\n",
    "    logging.warning(\"There shouldn't be any simplices of dim >1?!\")\n",
    "    vert = [v for v in x]\n",
    "    simplex_real_coordinates = large_points[vert]\n",
    "simplex_real_coordinates"
   ]
  },
  {
   "cell_type": "code",
   "execution_count": null,
   "metadata": {
    "collapsed": false
   },
   "outputs": [],
   "source": [
    "np.amin(simplex_real_coordinates,axis=0)"
   ]
  },
  {
   "cell_type": "code",
   "execution_count": null,
   "metadata": {
    "collapsed": false
   },
   "outputs": [],
   "source": [
    "large_points[1]"
   ]
  },
  {
   "cell_type": "code",
   "execution_count": null,
   "metadata": {
    "collapsed": false
   },
   "outputs": [],
   "source": [
    "large_points[821]"
   ]
  },
  {
   "cell_type": "code",
   "execution_count": null,
   "metadata": {
    "collapsed": true
   },
   "outputs": [],
   "source": []
  }
 ],
 "metadata": {
  "kernelspec": {
   "display_name": "Python 3",
   "language": "python",
   "name": "python3"
  },
  "language_info": {
   "codemirror_mode": {
    "name": "ipython",
    "version": 3
   },
   "file_extension": ".py",
   "mimetype": "text/x-python",
   "name": "python",
   "nbconvert_exporter": "python",
   "pygments_lexer": "ipython3",
   "version": "3.5.0"
  }
 },
 "nbformat": 4,
 "nbformat_minor": 0
}
