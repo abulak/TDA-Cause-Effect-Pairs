{
 "cells": [
  {
   "cell_type": "code",
   "execution_count": 1,
   "metadata": {
    "collapsed": false
   },
   "outputs": [
    {
     "name": "stderr",
     "output_type": "stream",
     "text": [
      "/usr/lib/python3.5/site-packages/matplotlib/__init__.py:1318: UserWarning:  This call to matplotlib.use() has no effect\n",
      "because the backend has already been chosen;\n",
      "matplotlib.use() must be called *before* pylab, matplotlib.pyplot,\n",
      "or matplotlib.backends is imported for the first time.\n",
      "\n",
      "  warnings.warn(_use_error_msg)\n",
      "/usr/lib/python3.5/site-packages/sklearn/utils/fixes.py:64: DeprecationWarning: inspect.getargspec() is deprecated, use inspect.signature() instead\n",
      "  if 'order' in inspect.getargspec(np.copy)[0]:\n"
     ]
    },
    {
     "name": "stdout",
     "output_type": "stream",
     "text": [
      "/home/kalmar/Mathematics/Research/MPI Tuebingen/TDA-Cause-Effect-Pairs\n"
     ]
    }
   ],
   "source": [
    "import numpy as np\n",
    "import matplotlib.pyplot as plt\n",
    "%matplotlib inline\n",
    "\n",
    "import re\n",
    "import sys\n",
    "import os\n",
    "\n",
    "sys.path.append(\"/home/kalmar/Mathematics/Research/MPI Tuebingen/Dionysus-python3/build/bindings/python\")\n",
    "import dionysus\n",
    "\n",
    "%reload_ext autoreload\n",
    "%autoreload 2\n",
    "\n",
    "tda = __import__(\"TDA\")\n",
    "tsp = __import__(\"topology-summary-plotter\")\n",
    "out_i = __import__(\"identify-outliers\")\n",
    "sampler = __import__(\"points-sampler\")\n",
    "initial_dir = os.getcwd()\n",
    "print(initial_dir)"
   ]
  },
  {
   "cell_type": "code",
   "execution_count": 2,
   "metadata": {
    "collapsed": false
   },
   "outputs": [],
   "source": [
    "pattern = re.compile('pair00..\\.txt')\n",
    "files = sorted([x for x in os.listdir('./pairs/') if pattern.match(x)])\n",
    "file_names = []\n",
    "dir_names = []\n",
    "for f in files:\n",
    "    with open(\"./pairs/\" + f) as points:\n",
    "        x = points.readline()\n",
    "        if len(x.split()) > 2:\n",
    "            file_names.append(f)\n",
    "            dir_names.append(f[:-4])"
   ]
  },
  {
   "cell_type": "code",
   "execution_count": 3,
   "metadata": {
    "collapsed": false
   },
   "outputs": [
    {
     "name": "stdout",
     "output_type": "stream",
     "text": [
      "pair0052.txt\n",
      "pair0053.txt\n",
      "pair0054.txt\n",
      "pair0055.txt\n",
      "pair0071.txt\n",
      "pair0081.txt\n",
      "pair0082.txt\n",
      "pair0083.txt\n"
     ]
    }
   ],
   "source": [
    "def sample_points(filename, size=1000):\n",
    "    target_dir = os.path.join(initial_dir,\"test\",filename[:-4])\n",
    "    os.chdir(target_dir)\n",
    "    sampler.workflow(filename, size)\n",
    "\n",
    "for f in file_names:\n",
    "    print(f)\n",
    "    sample_points(f, size=500)"
   ]
  },
  {
   "cell_type": "code",
   "execution_count": 4,
   "metadata": {
    "collapsed": false
   },
   "outputs": [
    {
     "name": "stdout",
     "output_type": "stream",
     "text": [
      "Finding all 75 outliers in pair0052\n",
      "pair0052 Done with outliers!\n",
      "Finding knn 75 outliers in pair0052\n",
      "pair0052 Done with outliers!\n",
      "Finding all 75 outliers in pair0053\n",
      "pair0053 Done with outliers!\n",
      "Finding knn 75 outliers in pair0053\n",
      "pair0053 Done with outliers!\n",
      "Finding all 58 outliers in pair0054\n",
      "pair0054 Done with outliers!\n",
      "Finding knn 58 outliers in pair0054\n",
      "pair0054 Done with outliers!\n",
      "Finding all 10 outliers in pair0055\n",
      "pair0055 Done with outliers!\n",
      "Finding knn 10 outliers in pair0055\n",
      "pair0055 Done with outliers!\n",
      "Finding all 18 outliers in pair0071\n",
      "pair0071 Done with outliers!\n",
      "Finding knn 18 outliers in pair0071\n",
      "pair0071 Done with outliers!\n",
      "Finding all 54 outliers in pair0081\n",
      "pair0081 Done with outliers!\n",
      "Finding knn 54 outliers in pair0081\n",
      "pair0081 Done with outliers!\n",
      "Finding all 54 outliers in pair0082\n",
      "pair0082 Done with outliers!\n",
      "Finding knn 54 outliers in pair0082\n",
      "pair0082 Done with outliers!\n",
      "Finding all 54 outliers in pair0083\n",
      "pair0083 Done with outliers!\n",
      "Finding knn 54 outliers in pair0083\n",
      "pair0083 Done with outliers!\n"
     ]
    }
   ],
   "source": [
    "def process_outliers(dir_name, model):\n",
    "    init_dir = os.getcwd()\n",
    "    os.chdir(\"./test/\"+dir_name)\n",
    "    out_i.workflow(model)\n",
    "    os.chdir(init_dir)\n",
    "\n",
    "for f in dir_names:\n",
    "    os.chdir(initial_dir)\n",
    "    process_outliers(f, 'all')\n",
    "    process_outliers(f, 'knn')"
   ]
  },
  {
   "cell_type": "code",
   "execution_count": 5,
   "metadata": {
    "collapsed": false
   },
   "outputs": [
    {
     "name": "stdout",
     "output_type": "stream",
     "text": [
      "pair0052\n",
      "x_range: [4, 5, 6, 7]\n",
      "y_range: [0, 1, 2, 3]\n",
      "Using Rips-complex. This may (or may not) be slow!\n",
      "Created rips full complex of size 57941\n",
      "2.0600116094118093\n",
      "Created rips limited complex of size 57941\n",
      "x_range: [4, 5, 6, 7]\n",
      "y_range: [0, 1, 2, 3]\n",
      "Using Rips-complex. This may (or may not) be slow!\n",
      "Created rips full complex of size 57755\n",
      "1.3953762350895027\n",
      "Created rips limited complex of size 57755\n",
      "x_range: [4, 5, 6, 7]\n",
      "y_range: [0, 1, 2, 3]\n",
      "Using Rips-complex. This may (or may not) be slow!\n",
      "Created rips full complex of size 57569\n",
      "1.265544867194275\n",
      "Created rips limited complex of size 57569\n",
      "x_range: [4, 5, 6, 7]\n",
      "y_range: [0, 1, 2, 3]\n",
      "Using Rips-complex. This may (or may not) be slow!\n",
      "Created rips full complex of size 57339\n",
      "1.2675093103725414\n",
      "Created rips limited complex of size 57339\n",
      "x_range: [4, 5, 6, 7]\n",
      "y_range: [0, 1, 2, 3]\n",
      "Using Rips-complex. This may (or may not) be slow!\n",
      "Created rips full complex of size 57131\n",
      "1.0666029508017083\n",
      "Created rips limited complex of size 57131\n",
      "x_range: [4, 5, 6, 7]\n",
      "y_range: [0, 1, 2, 3]\n",
      "Using Rips-complex. This may (or may not) be slow!\n",
      "Created rips full complex of size 56930\n",
      "1.0661733652662866\n",
      "Created rips limited complex of size 56930\n",
      "x_range: [4, 5, 6, 7]\n",
      "y_range: [0, 1, 2, 3]\n",
      "Using Rips-complex. This may (or may not) be slow!\n"
     ]
    },
    {
     "ename": "KeyboardInterrupt",
     "evalue": "",
     "output_type": "error",
     "traceback": [
      "\u001b[1;31m---------------------------------------------------------------------------\u001b[0m",
      "\u001b[1;31mKeyboardInterrupt\u001b[0m                         Traceback (most recent call last)",
      "\u001b[1;32m<ipython-input-5-810625ffc01a>\u001b[0m in \u001b[0;36m<module>\u001b[1;34m()\u001b[0m\n\u001b[0;32m      9\u001b[0m \u001b[0mf\u001b[0m \u001b[1;33m=\u001b[0m \u001b[0mdir_names\u001b[0m\u001b[1;33m[\u001b[0m\u001b[1;36m0\u001b[0m\u001b[1;33m]\u001b[0m\u001b[1;33m\u001b[0m\u001b[0m\n\u001b[0;32m     10\u001b[0m \u001b[0mprint\u001b[0m\u001b[1;33m(\u001b[0m\u001b[0mf\u001b[0m\u001b[1;33m)\u001b[0m\u001b[1;33m\u001b[0m\u001b[0m\n\u001b[1;32m---> 11\u001b[1;33m \u001b[0mtda_workflow\u001b[0m\u001b[1;33m(\u001b[0m\u001b[0mf\u001b[0m\u001b[1;33m,\u001b[0m\u001b[1;34m\"knn\"\u001b[0m\u001b[1;33m)\u001b[0m\u001b[1;33m\u001b[0m\u001b[0m\n\u001b[0m\u001b[0;32m     12\u001b[0m \u001b[1;33m\u001b[0m\u001b[0m\n\u001b[0;32m     13\u001b[0m \u001b[1;31m# for f in dir_names:\u001b[0m\u001b[1;33m\u001b[0m\u001b[1;33m\u001b[0m\u001b[0m\n",
      "\u001b[1;32m<ipython-input-5-810625ffc01a>\u001b[0m in \u001b[0;36mtda_workflow\u001b[1;34m(dir_name, model)\u001b[0m\n\u001b[0;32m      2\u001b[0m     \u001b[0minit_dir\u001b[0m \u001b[1;33m=\u001b[0m \u001b[0mos\u001b[0m\u001b[1;33m.\u001b[0m\u001b[0mgetcwd\u001b[0m\u001b[1;33m(\u001b[0m\u001b[1;33m)\u001b[0m\u001b[1;33m\u001b[0m\u001b[0m\n\u001b[0;32m      3\u001b[0m     \u001b[0mos\u001b[0m\u001b[1;33m.\u001b[0m\u001b[0mchdir\u001b[0m\u001b[1;33m(\u001b[0m\u001b[1;34m\"./test/\"\u001b[0m\u001b[1;33m+\u001b[0m\u001b[0mdir_name\u001b[0m\u001b[1;33m)\u001b[0m\u001b[1;33m\u001b[0m\u001b[0m\n\u001b[1;32m----> 4\u001b[1;33m     \u001b[0mtda\u001b[0m\u001b[1;33m.\u001b[0m\u001b[0mworkflow\u001b[0m\u001b[1;33m(\u001b[0m\u001b[0mmodel\u001b[0m\u001b[1;33m)\u001b[0m\u001b[1;33m\u001b[0m\u001b[0m\n\u001b[0m\u001b[0;32m      5\u001b[0m     \u001b[0mos\u001b[0m\u001b[1;33m.\u001b[0m\u001b[0mchdir\u001b[0m\u001b[1;33m(\u001b[0m\u001b[0minit_dir\u001b[0m\u001b[1;33m)\u001b[0m\u001b[1;33m\u001b[0m\u001b[0m\n\u001b[0;32m      6\u001b[0m \u001b[1;33m\u001b[0m\u001b[0m\n",
      "\u001b[1;32m/home/kalmar/Mathematics/Research/MPI Tuebingen/TDA-Cause-Effect-Pairs/TDA.py\u001b[0m in \u001b[0;36mworkflow\u001b[1;34m(model)\u001b[0m\n\u001b[0;32m    417\u001b[0m \u001b[1;33m\u001b[0m\u001b[0m\n\u001b[0;32m    418\u001b[0m \u001b[1;32mdef\u001b[0m \u001b[0mworkflow\u001b[0m\u001b[1;33m(\u001b[0m\u001b[0mmodel\u001b[0m\u001b[1;33m)\u001b[0m\u001b[1;33m:\u001b[0m\u001b[1;33m\u001b[0m\u001b[0m\n\u001b[1;32m--> 419\u001b[1;33m     \u001b[0mp\u001b[0m \u001b[1;33m=\u001b[0m \u001b[0mCauseEffectPair\u001b[0m\u001b[1;33m(\u001b[0m\u001b[0mmodel\u001b[0m\u001b[1;33m)\u001b[0m\u001b[1;33m\u001b[0m\u001b[0m\n\u001b[0m\u001b[0;32m    420\u001b[0m     \u001b[0mp\u001b[0m\u001b[1;33m.\u001b[0m\u001b[0msave_topological_summary\u001b[0m\u001b[1;33m(\u001b[0m\u001b[1;33m)\u001b[0m\u001b[1;33m\u001b[0m\u001b[0m\n\u001b[0;32m    421\u001b[0m \u001b[1;33m\u001b[0m\u001b[0m\n",
      "\u001b[1;32m/home/kalmar/Mathematics/Research/MPI Tuebingen/TDA-Cause-Effect-Pairs/TDA.py\u001b[0m in \u001b[0;36m__init__\u001b[1;34m(self, model)\u001b[0m\n\u001b[0;32m    329\u001b[0m         \u001b[0mself\u001b[0m\u001b[1;33m.\u001b[0m\u001b[0mprepare_points\u001b[0m\u001b[1;33m(\u001b[0m\u001b[1;33m)\u001b[0m\u001b[1;33m\u001b[0m\u001b[0m\n\u001b[0;32m    330\u001b[0m \u001b[1;33m\u001b[0m\u001b[0m\n\u001b[1;32m--> 331\u001b[1;33m         \u001b[0mself\u001b[0m\u001b[1;33m.\u001b[0m\u001b[0mcompute_topological_summary\u001b[0m\u001b[1;33m(\u001b[0m\u001b[1;33m)\u001b[0m\u001b[1;33m\u001b[0m\u001b[0m\n\u001b[0m\u001b[0;32m    332\u001b[0m \u001b[1;33m\u001b[0m\u001b[0m\n\u001b[0;32m    333\u001b[0m     \u001b[1;32mdef\u001b[0m \u001b[0mprepare_points\u001b[0m\u001b[1;33m(\u001b[0m\u001b[0mself\u001b[0m\u001b[1;33m)\u001b[0m\u001b[1;33m:\u001b[0m\u001b[1;33m\u001b[0m\u001b[0m\n",
      "\u001b[1;32m/home/kalmar/Mathematics/Research/MPI Tuebingen/TDA-Cause-Effect-Pairs/TDA.py\u001b[0m in \u001b[0;36mcompute_topological_summary\u001b[1;34m(self)\u001b[0m\n\u001b[0;32m    369\u001b[0m             self.geometric_complex = GeometricComplex(cleaned_points,\n\u001b[0;32m    370\u001b[0m                                                       \u001b[0mself\u001b[0m\u001b[1;33m.\u001b[0m\u001b[0mx_range\u001b[0m\u001b[1;33m,\u001b[0m\u001b[1;33m\u001b[0m\u001b[0m\n\u001b[1;32m--> 371\u001b[1;33m                                                       self.y_range)\n\u001b[0m\u001b[0;32m    372\u001b[0m \u001b[1;33m\u001b[0m\u001b[0m\n\u001b[0;32m    373\u001b[0m             self.extrema.append({\n",
      "\u001b[1;32m/home/kalmar/Mathematics/Research/MPI Tuebingen/TDA-Cause-Effect-Pairs/TDA.py\u001b[0m in \u001b[0;36m__init__\u001b[1;34m(self, cleaned_data, x_range, y_range, full_initialisation)\u001b[0m\n\u001b[0;32m    147\u001b[0m                        for i in range(self.dimension)]\n\u001b[0;32m    148\u001b[0m \u001b[1;33m\u001b[0m\u001b[0m\n\u001b[1;32m--> 149\u001b[1;33m         \u001b[0mself\u001b[0m\u001b[1;33m.\u001b[0m\u001b[0m__create_full_complex__\u001b[0m\u001b[1;33m(\u001b[0m\u001b[1;33m)\u001b[0m\u001b[1;33m\u001b[0m\u001b[0m\n\u001b[0m\u001b[0;32m    150\u001b[0m         \u001b[0mself\u001b[0m\u001b[1;33m.\u001b[0m\u001b[0mthe_alpha\u001b[0m \u001b[1;33m=\u001b[0m \u001b[0mself\u001b[0m\u001b[1;33m.\u001b[0m\u001b[0mcompute_the_last_death\u001b[0m\u001b[1;33m(\u001b[0m\u001b[1;33m)\u001b[0m\u001b[1;33m\u001b[0m\u001b[0m\n\u001b[0;32m    151\u001b[0m         \u001b[0mself\u001b[0m\u001b[1;33m.\u001b[0m\u001b[0m__create_limited_complex__\u001b[0m\u001b[1;33m(\u001b[0m\u001b[0mthreshold\u001b[0m\u001b[1;33m=\u001b[0m\u001b[0mself\u001b[0m\u001b[1;33m.\u001b[0m\u001b[0mthe_alpha\u001b[0m\u001b[1;33m)\u001b[0m\u001b[1;33m\u001b[0m\u001b[0m\n",
      "\u001b[1;32m/home/kalmar/Mathematics/Research/MPI Tuebingen/TDA-Cause-Effect-Pairs/TDA.py\u001b[0m in \u001b[0;36m__create_full_complex__\u001b[1;34m(self)\u001b[0m\n\u001b[0;32m    194\u001b[0m             \u001b[0mrips\u001b[0m \u001b[1;33m=\u001b[0m \u001b[0mself\u001b[0m\u001b[1;33m.\u001b[0m\u001b[0mdionysus\u001b[0m\u001b[1;33m.\u001b[0m\u001b[0mRips\u001b[0m\u001b[1;33m(\u001b[0m\u001b[0mdistances\u001b[0m\u001b[1;33m)\u001b[0m\u001b[1;33m\u001b[0m\u001b[0m\n\u001b[0;32m    195\u001b[0m             \u001b[1;31m# dim = 1, maximum distance = 1 (i.e. one sigma)\u001b[0m\u001b[1;33m\u001b[0m\u001b[1;33m\u001b[0m\u001b[0m\n\u001b[1;32m--> 196\u001b[1;33m             \u001b[0mrips\u001b[0m\u001b[1;33m.\u001b[0m\u001b[0mgenerate\u001b[0m\u001b[1;33m(\u001b[0m\u001b[1;36m1\u001b[0m\u001b[1;33m,\u001b[0m \u001b[0mnp\u001b[0m\u001b[1;33m.\u001b[0m\u001b[0msqrt\u001b[0m\u001b[1;33m(\u001b[0m\u001b[0mself\u001b[0m\u001b[1;33m.\u001b[0m\u001b[0mdimension\u001b[0m\u001b[1;33m)\u001b[0m\u001b[1;33m,\u001b[0m \u001b[0mself\u001b[0m\u001b[1;33m.\u001b[0m\u001b[0mfull_complex\u001b[0m\u001b[1;33m.\u001b[0m\u001b[0mappend\u001b[0m\u001b[1;33m)\u001b[0m\u001b[1;33m\u001b[0m\u001b[0m\n\u001b[0m\u001b[0;32m    197\u001b[0m             \u001b[1;32mfor\u001b[0m \u001b[0ms\u001b[0m \u001b[1;32min\u001b[0m \u001b[0mself\u001b[0m\u001b[1;33m.\u001b[0m\u001b[0mfull_complex\u001b[0m\u001b[1;33m:\u001b[0m\u001b[1;33m\u001b[0m\u001b[0m\n\u001b[0;32m    198\u001b[0m                 \u001b[0ms\u001b[0m\u001b[1;33m.\u001b[0m\u001b[0mdata\u001b[0m \u001b[1;33m=\u001b[0m \u001b[0mrips\u001b[0m\u001b[1;33m.\u001b[0m\u001b[0meval\u001b[0m\u001b[1;33m(\u001b[0m\u001b[0ms\u001b[0m\u001b[1;33m)\u001b[0m\u001b[1;33m\u001b[0m\u001b[0m\n",
      "\u001b[1;31mKeyboardInterrupt\u001b[0m: "
     ]
    }
   ],
   "source": [
    "def tda_workflow(dir_name, model):\n",
    "    init_dir = os.getcwd()\n",
    "    os.chdir(\"./test/\"+dir_name)\n",
    "    tda.workflow(model)\n",
    "    os.chdir(init_dir)\n",
    "\n",
    "\n",
    "# for f in dir_names:\n",
    "f = dir_names[0]\n",
    "print(f)\n",
    "tda_workflow(f,\"knn\")\n",
    "\n",
    "# for f in dir_names:\n",
    "#     tda_workflow(f,\"all\")"
   ]
  },
  {
   "cell_type": "code",
   "execution_count": null,
   "metadata": {
    "collapsed": true
   },
   "outputs": [],
   "source": []
  },
  {
   "cell_type": "code",
   "execution_count": null,
   "metadata": {
    "collapsed": true
   },
   "outputs": [],
   "source": []
  },
  {
   "cell_type": "code",
   "execution_count": null,
   "metadata": {
    "collapsed": false
   },
   "outputs": [],
   "source": [
    "multidim[3]"
   ]
  },
  {
   "cell_type": "code",
   "execution_count": null,
   "metadata": {
    "collapsed": false
   },
   "outputs": [],
   "source": [
    "os.chdir(initial_dir)"
   ]
  },
  {
   "cell_type": "code",
   "execution_count": null,
   "metadata": {
    "collapsed": false
   },
   "outputs": [],
   "source": [
    "p_name = multidim[3]\n",
    "os.chdir(\"./test/\"+p_name[:-4])\n",
    "p = out_i.OutlierRemoval('knn')"
   ]
  },
  {
   "cell_type": "code",
   "execution_count": null,
   "metadata": {
    "collapsed": false
   },
   "outputs": [],
   "source": [
    "print(p.points.shape)"
   ]
  },
  {
   "cell_type": "code",
   "execution_count": null,
   "metadata": {
    "collapsed": false
   },
   "outputs": [],
   "source": [
    "int(15 * p.points.shape[0] / 100.0)"
   ]
  },
  {
   "cell_type": "code",
   "execution_count": null,
   "metadata": {
    "collapsed": false
   },
   "outputs": [],
   "source": [
    "np.mean(p.points[:,0])"
   ]
  },
  {
   "cell_type": "code",
   "execution_count": null,
   "metadata": {
    "collapsed": false
   },
   "outputs": [],
   "source": []
  },
  {
   "cell_type": "code",
   "execution_count": null,
   "metadata": {
    "collapsed": false
   },
   "outputs": [],
   "source": [
    "nearest_neighbours = 2 * int(p.points.shape[0] / 100) + 2\n",
    "nearest_neighbours"
   ]
  },
  {
   "cell_type": "code",
   "execution_count": null,
   "metadata": {
    "collapsed": false
   },
   "outputs": [],
   "source": [
    "from sklearn.neighbors import NearestNeighbors\n",
    "neigh = NearestNeighbors()"
   ]
  },
  {
   "cell_type": "code",
   "execution_count": null,
   "metadata": {
    "collapsed": false
   },
   "outputs": [],
   "source": [
    "neigh.fit(p.points)"
   ]
  },
  {
   "cell_type": "code",
   "execution_count": null,
   "metadata": {
    "collapsed": true
   },
   "outputs": [],
   "source": [
    "for x in p.points:\n",
    "    print(x)"
   ]
  },
  {
   "cell_type": "code",
   "execution_count": null,
   "metadata": {
    "collapsed": false
   },
   "outputs": [],
   "source": [
    "os.getcwd()"
   ]
  },
  {
   "cell_type": "code",
   "execution_count": null,
   "metadata": {
    "collapsed": true
   },
   "outputs": [],
   "source": [
    "os.chdir(\"../../\")"
   ]
  },
  {
   "cell_type": "code",
   "execution_count": null,
   "metadata": {
    "collapsed": true
   },
   "outputs": [],
   "source": []
  }
 ],
 "metadata": {
  "kernelspec": {
   "display_name": "Python 3",
   "language": "python",
   "name": "python3"
  },
  "language_info": {
   "codemirror_mode": {
    "name": "ipython",
    "version": 3
   },
   "file_extension": ".py",
   "mimetype": "text/x-python",
   "name": "python",
   "nbconvert_exporter": "python",
   "pygments_lexer": "ipython3",
   "version": "3.5.0"
  }
 },
 "nbformat": 4,
 "nbformat_minor": 0
}
