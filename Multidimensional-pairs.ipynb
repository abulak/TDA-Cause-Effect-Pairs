{
 "cells": [
  {
   "cell_type": "code",
   "execution_count": 1,
   "metadata": {
    "collapsed": false
   },
   "outputs": [
    {
     "name": "stdout",
     "output_type": "stream",
     "text": [
      "/home/kalmar/Mathematics/Research/MPI Tuebingen/TDA-Cause-Effect-Pairs\n"
     ]
    }
   ],
   "source": [
    "import os\n",
    "initial_dir = os.getcwd()\n",
    "print(initial_dir)"
   ]
  },
  {
   "cell_type": "code",
   "execution_count": 2,
   "metadata": {
    "collapsed": false
   },
   "outputs": [
    {
     "name": "stderr",
     "output_type": "stream",
     "text": [
      "/usr/lib/python3.5/site-packages/matplotlib/__init__.py:1318: UserWarning:  This call to matplotlib.use() has no effect\n",
      "because the backend has already been chosen;\n",
      "matplotlib.use() must be called *before* pylab, matplotlib.pyplot,\n",
      "or matplotlib.backends is imported for the first time.\n",
      "\n",
      "  warnings.warn(_use_error_msg)\n",
      "/usr/lib/python3.5/site-packages/sklearn/utils/fixes.py:64: DeprecationWarning: inspect.getargspec() is deprecated, use inspect.signature() instead\n",
      "  if 'order' in inspect.getargspec(np.copy)[0]:\n"
     ]
    }
   ],
   "source": [
    "import numpy as np\n",
    "import matplotlib.pyplot as plt\n",
    "%matplotlib inline\n",
    "\n",
    "import re\n",
    "import sys\n",
    "\n",
    "sys.path.append(\"/home/kalmar/Mathematics/Research/MPI Tuebingen/Dionysus-python3/build/bindings/python\")\n",
    "import dionysus\n",
    "\n",
    "%reload_ext autoreload\n",
    "%autoreload 2\n",
    "\n",
    "import logging\n",
    "logger = logging.getLogger()\n",
    "logger.setLevel(logging.INFO)\n",
    "\n",
    "tda = __import__(\"TDA\")\n",
    "tsp = __import__(\"topology-summary-plotter\")\n",
    "out_i = __import__(\"identify-outliers\")\n",
    "sampler = __import__(\"points-sampler\")\n",
    "os.chdir(initial_dir)"
   ]
  },
  {
   "cell_type": "code",
   "execution_count": 3,
   "metadata": {
    "collapsed": false
   },
   "outputs": [
    {
     "data": {
      "text/plain": [
       "['pair0052.txt',\n",
       " 'pair0053.txt',\n",
       " 'pair0054.txt',\n",
       " 'pair0055.txt',\n",
       " 'pair0071.txt',\n",
       " 'pair0081.txt',\n",
       " 'pair0082.txt',\n",
       " 'pair0083.txt']"
      ]
     },
     "execution_count": 3,
     "metadata": {},
     "output_type": "execute_result"
    }
   ],
   "source": [
    "pattern = re.compile('pair00..\\.txt')\n",
    "files = sorted([x for x in os.listdir('./pairs/') if pattern.match(x)])\n",
    "file_names = []\n",
    "dir_names = []\n",
    "for f in files:\n",
    "    with open(\"./pairs/\" + f) as points:\n",
    "        x = points.readline()\n",
    "        if len(x.split()) > 2:\n",
    "            file_names.append(f)\n",
    "            dir_names.append(f[:-4])\n",
    "file_names"
   ]
  },
  {
   "cell_type": "code",
   "execution_count": 4,
   "metadata": {
    "collapsed": false
   },
   "outputs": [
    {
     "name": "stderr",
     "output_type": "stream",
     "text": [
      "INFO:root:Sampling up to 400 points from pair0052.txt\n",
      "INFO:root:Data contains more points than 400. Sampling.\n",
      "INFO:root:Sampling Done!\n",
      "INFO:root:Sampling up to 400 points from pair0053.txt\n",
      "INFO:root:Data contains more points than 400. Sampling.\n",
      "INFO:root:Sampling Done!\n",
      "INFO:root:Sampling up to 400 points from pair0054.txt\n",
      "INFO:root:Data contains less points than 400. Using all available.\n",
      "INFO:root:Sampling Done!\n",
      "INFO:root:Sampling up to 400 points from pair0055.txt\n",
      "INFO:root:Data contains less points than 400. Using all available.\n",
      "INFO:root:Sampling Done!\n",
      "INFO:root:Sampling up to 400 points from pair0071.txt\n",
      "INFO:root:Data contains less points than 400. Using all available.\n",
      "INFO:root:Sampling Done!\n",
      "INFO:root:Sampling up to 400 points from pair0081.txt\n",
      "INFO:root:Data contains less points than 400. Using all available.\n",
      "INFO:root:Column 2 contains Nan(s). Discarding\n",
      "INFO:root:Discarded 1 columns in total\n",
      "INFO:root:Sampling Done!\n",
      "INFO:root:Sampling up to 400 points from pair0082.txt\n",
      "INFO:root:Data contains less points than 400. Using all available.\n",
      "INFO:root:Column 2 contains Nan(s). Discarding\n",
      "INFO:root:Discarded 1 columns in total\n",
      "INFO:root:Sampling Done!\n",
      "INFO:root:Sampling up to 400 points from pair0083.txt\n",
      "INFO:root:Data contains less points than 400. Using all available.\n",
      "INFO:root:Column 2 contains Nan(s). Discarding\n",
      "INFO:root:Discarded 1 columns in total\n",
      "INFO:root:Sampling Done!\n"
     ]
    }
   ],
   "source": [
    "def sample_points(filename, size=1000):\n",
    "    target_dir = os.path.join(initial_dir,\"log-test\",filename[:-4])\n",
    "    os.chdir(target_dir)\n",
    "    sampler.workflow(filename, size)\n",
    "\n",
    "for f in file_names:\n",
    "    sample_points(f, size=400)"
   ]
  },
  {
   "cell_type": "code",
   "execution_count": 5,
   "metadata": {
    "collapsed": false
   },
   "outputs": [
    {
     "name": "stderr",
     "output_type": "stream",
     "text": [
      "INFO:root:Finding 'all' 60 outliers in pair0052\n",
      "INFO:root:Done with outliers!\n",
      "INFO:root:Finding 'knn' 60 outliers in pair0052\n",
      "INFO:root:Done with outliers!\n",
      "INFO:root:Finding 'all' 60 outliers in pair0053\n",
      "INFO:root:Done with outliers!\n",
      "INFO:root:Finding 'knn' 60 outliers in pair0053\n",
      "INFO:root:Done with outliers!\n",
      "INFO:root:Finding 'all' 58 outliers in pair0054\n",
      "INFO:root:Done with outliers!\n",
      "INFO:root:Finding 'knn' 58 outliers in pair0054\n",
      "INFO:root:Done with outliers!\n",
      "INFO:root:Finding 'all' 10 outliers in pair0055\n",
      "INFO:root:Done with outliers!\n",
      "INFO:root:Finding 'knn' 10 outliers in pair0055\n",
      "INFO:root:Done with outliers!\n",
      "INFO:root:Finding 'all' 18 outliers in pair0071\n",
      "INFO:root:Done with outliers!\n",
      "INFO:root:Finding 'knn' 18 outliers in pair0071\n",
      "INFO:root:Done with outliers!\n",
      "INFO:root:Finding 'all' 54 outliers in pair0081\n",
      "INFO:root:Done with outliers!\n",
      "INFO:root:Finding 'knn' 54 outliers in pair0081\n",
      "INFO:root:Done with outliers!\n",
      "INFO:root:Finding 'all' 54 outliers in pair0082\n",
      "INFO:root:Done with outliers!\n",
      "INFO:root:Finding 'knn' 54 outliers in pair0082\n",
      "INFO:root:Done with outliers!\n",
      "INFO:root:Finding 'all' 54 outliers in pair0083\n",
      "INFO:root:Done with outliers!\n",
      "INFO:root:Finding 'knn' 54 outliers in pair0083\n",
      "INFO:root:Done with outliers!\n"
     ]
    }
   ],
   "source": [
    "def process_outliers(dir_name, model):\n",
    "    init_dir = os.getcwd()\n",
    "    os.chdir(\"./test/\"+dir_name)\n",
    "    out_i.workflow(model)\n",
    "    os.chdir(init_dir)\n",
    "\n",
    "for f in dir_names:\n",
    "    os.chdir(initial_dir)\n",
    "    process_outliers(f, 'all')\n",
    "    process_outliers(f, 'knn')"
   ]
  },
  {
   "cell_type": "code",
   "execution_count": null,
   "metadata": {
    "collapsed": true
   },
   "outputs": [],
   "source": [
    "def tda_workflow(dir_name, model):\n",
    "    init_dir = os.getcwd()\n",
    "    os.chdir(\"./test/\"+dir_name)\n",
    "    tda.workflow(model)\n",
    "    os.chdir(init_dir)\n",
    "\n",
    "\n",
    "# f = dir_names[0]\n",
    "# print(f)\n",
    "# tda_workflow(f,\"knn\")\n",
    "\n",
    "for f in dir_names:\n",
    "    print(f)\n",
    "    tda_workflow(f,\"knn\")"
   ]
  },
  {
   "cell_type": "code",
   "execution_count": 7,
   "metadata": {
    "collapsed": false
   },
   "outputs": [],
   "source": [
    "os.chdir(initial_dir)"
   ]
  },
  {
   "cell_type": "code",
   "execution_count": 14,
   "metadata": {
    "collapsed": false
   },
   "outputs": [],
   "source": [
    "all_files = os.listdir('./pairs')\n",
    "pattern = re.compile('pair00..\\.txt')\n",
    "files = [file for file in all_files if pattern.match(file)]\n",
    "files.sort()"
   ]
  },
  {
   "cell_type": "code",
   "execution_count": 15,
   "metadata": {
    "collapsed": false
   },
   "outputs": [
    {
     "name": "stdout",
     "output_type": "stream",
     "text": [
      "83\n",
      "pair0001.txt\n",
      "pair0002.txt\n",
      "pair0003.txt\n",
      "pair0004.txt\n",
      "pair0005.txt\n",
      "pair0006.txt\n",
      "pair0007.txt\n",
      "pair0008.txt\n",
      "pair0009.txt\n",
      "pair0010.txt\n",
      "pair0011.txt\n",
      "pair0012.txt\n",
      "pair0013.txt\n",
      "pair0014.txt\n",
      "pair0015.txt\n",
      "pair0016.txt\n",
      "pair0017.txt\n",
      "pair0018.txt\n",
      "pair0019.txt\n",
      "pair0020.txt\n",
      "pair0021.txt\n",
      "pair0022.txt\n",
      "pair0024.txt\n",
      "pair0025.txt\n",
      "pair0026.txt\n",
      "pair0027.txt\n",
      "pair0028.txt\n",
      "pair0029.txt\n",
      "pair0030.txt\n",
      "pair0031.txt\n",
      "pair0032.txt\n",
      "pair0034.txt\n",
      "pair0035.txt\n",
      "pair0036.txt\n",
      "pair0038.txt\n",
      "pair0039.txt\n",
      "pair0040.txt\n",
      "pair0041.txt\n",
      "pair0042.txt\n",
      "pair0043.txt\n",
      "pair0044.txt\n",
      "pair0045.txt\n",
      "pair0046.txt\n",
      "pair0048.txt\n",
      "pair0049.txt\n",
      "pair0050.txt\n",
      "pair0051.txt\n",
      "pair0052.txt\n",
      "pair0053.txt\n",
      "pair0054.txt\n",
      "pair0055.txt\n",
      "pair0056.txt\n",
      "pair0057.txt\n",
      "pair0058.txt\n",
      "pair0059.txt\n",
      "pair0060.txt\n",
      "pair0061.txt\n",
      "pair0062.txt\n",
      "pair0063.txt\n",
      "pair0064.txt\n",
      "pair0065.txt\n",
      "pair0066.txt\n",
      "pair0067.txt\n",
      "pair0068.txt\n",
      "pair0069.txt\n",
      "pair0071.txt\n",
      "pair0072.txt\n",
      "pair0073.txt\n",
      "pair0074.txt\n",
      "pair0075.txt\n",
      "pair0076.txt\n",
      "pair0077.txt\n",
      "pair0078.txt\n",
      "pair0079.txt\n",
      "pair0080.txt\n",
      "pair0081.txt\n",
      "pair0082.txt\n",
      "pair0083.txt\n",
      "pair0084.txt\n",
      "pair0085.txt\n",
      "pair0086.txt\n",
      "pair0087.txt\n",
      "pair0088.txt\n"
     ]
    }
   ],
   "source": [
    "blacklist = ['pair0023.txt', 'pair0033.txt', 'pair0037.txt', 'pair0047.txt', 'pair0070.txt']\n",
    "\n",
    "files_to_process = [file for file in files if file not in blacklist]\n",
    "print(len(files_to_process))\n",
    "for file in files_to_process:\n",
    "    print(file)"
   ]
  },
  {
   "cell_type": "code",
   "execution_count": null,
   "metadata": {
    "collapsed": true
   },
   "outputs": [],
   "source": []
  }
 ],
 "metadata": {
  "kernelspec": {
   "display_name": "Python 3",
   "language": "python",
   "name": "python3"
  },
  "language_info": {
   "codemirror_mode": {
    "name": "ipython",
    "version": 3
   },
   "file_extension": ".py",
   "mimetype": "text/x-python",
   "name": "python",
   "nbconvert_exporter": "python",
   "pygments_lexer": "ipython3",
   "version": "3.5.0"
  }
 },
 "nbformat": 4,
 "nbformat_minor": 0
}
