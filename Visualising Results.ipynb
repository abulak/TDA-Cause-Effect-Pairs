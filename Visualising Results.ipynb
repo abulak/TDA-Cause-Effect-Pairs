{
 "cells": [
  {
   "cell_type": "code",
   "execution_count": 29,
   "metadata": {
    "collapsed": false,
    "scrolled": true
   },
   "outputs": [],
   "source": [
    "import numpy as np\n",
    "import matplotlib.pyplot as plt\n",
    "%matplotlib inline\n",
    "\n",
    "from matplotlib.collections import LineCollection\n",
    "\n",
    "import re\n",
    "import sys\n",
    "import os\n",
    "import json\n",
    "\n",
    "path = os.path.abspath(os.path.join(os.getcwd(), os.pardir))\n",
    "# sys.path.append(\"/home/kalmar/Mathematics/Software/Dionysus/build-x64/bindings/python/\")\n",
    "sys.path.append(os.path.join(path,\"Dionysus-python3/build/bindings/python\"))\n",
    "import dionysus\n",
    "\n",
    "%reload_ext autoreload\n",
    "%autoreload 2\n",
    "\n",
    "import TDA"
   ]
  },
  {
   "cell_type": "code",
   "execution_count": 30,
   "metadata": {
    "collapsed": false
   },
   "outputs": [
    {
     "name": "stdout",
     "output_type": "stream",
     "text": [
      "2\n",
      "['pair0001', 'pair0053']\n"
     ]
    }
   ],
   "source": [
    "# prefix = 'sampled-2000'\n",
    "prefix = 'test'\n",
    "pattern = re.compile('pair[0-9]{4,}$')\n",
    "files = sorted([x for x in os.listdir(os.path.join(os.getcwd(),prefix)) if pattern.match(x)])\n",
    "print(len(files))\n",
    "print(files[:4])"
   ]
  },
  {
   "cell_type": "code",
   "execution_count": 37,
   "metadata": {
    "collapsed": false
   },
   "outputs": [
    {
     "name": "stdout",
     "output_type": "stream",
     "text": [
      "pair0053\n"
     ]
    }
   ],
   "source": [
    "i = 1\n",
    "print(files[i])\n",
    "directory = directory = os.path.join(os.getcwd(),prefix,files[i])\n",
    "with open(os.path.join(directory,\"diagrams_knn\")) as file:\n",
    "    diagrams = json.load(file)"
   ]
  },
  {
   "cell_type": "code",
   "execution_count": 38,
   "metadata": {
    "collapsed": false
   },
   "outputs": [
    {
     "name": "stdout",
     "output_type": "stream",
     "text": [
      "Y_inverted projection on 0 axis\n",
      "[[0.35196040755343594, 0.5053381716991745]]\n",
      "Y projection on 0 axis\n",
      "[]\n",
      "X projection on 0 axis\n",
      "[[0.4859649849726475, 2.400454656129419], [0.9358949094603405, 1.1048869172518514]]\n",
      "X projection on 1 axis\n",
      "[]\n",
      "X projection on 2 axis\n",
      "[[0.36998671025849417, 0.47809300844420477]]\n",
      "X_inverted projection on 0 axis\n",
      "[]\n",
      "X_inverted projection on 1 axis\n",
      "[[0.08374243919000168, 0.5848043945748613], [0.23009491606797194, 0.33769456497659966], [0.6891342736235764, 1.0165956699645218]]\n",
      "X_inverted projection on 2 axis\n",
      "[[0.0854013954641295, 0.48499478285104924]]\n"
     ]
    }
   ],
   "source": [
    "for key, value in diagrams[0].items():\n",
    "    for i, pairs in enumerate(value): \n",
    "        print(key, \"projection on\", i ,\"axis\")\n",
    "        print(pairs)"
   ]
  },
  {
   "cell_type": "code",
   "execution_count": 39,
   "metadata": {
    "collapsed": false
   },
   "outputs": [],
   "source": [
    "class dummy:\n",
    "    \n",
    "    def __init__(self, diagrams):\n",
    "        self.diagrams_list = diagrams\n",
    "        self.create_persistence_diagrams()\n",
    "    \n",
    "    def create_persistence_diagrams(self):\n",
    "        self.persistence_diagrams = []\n",
    "        for dictionary in self.diagrams_list:\n",
    "            dic = {}\n",
    "            for key, projection in dictionary.items():\n",
    "                proj = []\n",
    "                for diagram in projection:\n",
    "                    p_diagram = dionysus.PersistenceDiagram(0)\n",
    "                    for pair in diagram:\n",
    "                        p_diagram.append(tuple(pair))\n",
    "                    proj.append(p_diagram)\n",
    "                dic[key] = proj\n",
    "            self.persistence_diagrams.append(dic)"
   ]
  },
  {
   "cell_type": "code",
   "execution_count": 40,
   "metadata": {
    "collapsed": false
   },
   "outputs": [
    {
     "data": {
      "text/plain": [
       "2.28242 2.78158"
      ]
     },
     "execution_count": 40,
     "metadata": {},
     "output_type": "execute_result"
    }
   ],
   "source": [
    "x = dummy(diagrams)\n",
    "x.persistence_diagrams[23][\"X\"][0]"
   ]
  },
  {
   "cell_type": "code",
   "execution_count": 41,
   "metadata": {
    "collapsed": false
   },
   "outputs": [
    {
     "data": {
      "text/plain": [
       "30"
      ]
     },
     "execution_count": 41,
     "metadata": {},
     "output_type": "execute_result"
    }
   ],
   "source": [
    "len(x.persistence_diagrams)"
   ]
  },
  {
   "cell_type": "code",
   "execution_count": 42,
   "metadata": {
    "collapsed": false
   },
   "outputs": [
    {
     "data": {
      "text/plain": [
       "[[2.2824180494677817, 2.7815797135632727]]"
      ]
     },
     "execution_count": 42,
     "metadata": {},
     "output_type": "execute_result"
    }
   ],
   "source": [
    "diagrams[23][\"X\"][0]"
   ]
  },
  {
   "cell_type": "code",
   "execution_count": 25,
   "metadata": {
    "collapsed": true
   },
   "outputs": [],
   "source": [
    "# for each in files[3:]:\n",
    "#     p=Pair(prefix,each)"
   ]
  },
  {
   "cell_type": "code",
   "execution_count": 232,
   "metadata": {
    "collapsed": false
   },
   "outputs": [],
   "source": [
    "class PairResults:\n",
    "    try:\n",
    "        all_pairs_metadata = np.loadtxt(os.path.join(os.getcwd(), 'pairs', 'pairmeta.txt'))\n",
    "    except FileNotFoundError:\n",
    "        logging.warning(\"No metadata found! All is set to 0\")\n",
    "        all_pairs_metadata = np.zeros((88, 6))\n",
    "    \n",
    "    empty_diagram = dionysus.PersistenceDiagram(0)\n",
    "    empty_diagram.append((0, 0))\n",
    "    \n",
    "    def __init__(self, name, path_to_diagrams, threshold=0):\n",
    "        if name[-4:] == '.txt':\n",
    "            name = name[:-4]\n",
    "        self.name = name\n",
    "        self.number = int(name[-4:])\n",
    "        \n",
    "        self.metadata = self.all_pairs_metadata[self.number-1]\n",
    "        \n",
    "        if self.metadata[1] == 1:     # i.e. X --> Y\n",
    "            self.causality_true = 1  \n",
    "        else:                         # i.e. Y --> X\n",
    "            self.causality_true = -1  \n",
    "        self.weight = self.metadata[5]\n",
    "        \n",
    "        self.x_range = range(int(self.metadata[2] - self.metadata[1]))\n",
    "        self.y_range = range(int(self.metadata[4] - self.metadata[3]))\n",
    "        \n",
    "        with open(path_to_diagrams, 'r') as diagrams:\n",
    "            self.persistence_list = json.load(diagrams)\n",
    "        \n",
    "        self.prepare_persistence_diagrams()\n",
    "\n",
    "        self.causality_inferred = self.decide_causality()\n",
    "        \n",
    "    \n",
    "    def prepare_persistence_diagrams(self):\n",
    "        \n",
    "        self.persistence_diagrams = self.turn_list_to_dionysus_p_diagrams(self.persistence_list)\n",
    "        \n",
    "        self.X_diagrams = [self.persistence_diagrams[i][\"X\"]\n",
    "                           for i in range(len(self.persistence_diagrams))]\n",
    "        self.Y_diagrams = [self.persistence_diagrams[i][\"Y\"]\n",
    "                           for i in range(len(self.persistence_diagrams))]\n",
    "        self.X_inv_diagrams = [self.persistence_diagrams[i][\"X_inverted\"] \n",
    "                               for i in range(len(self.persistence_diagrams))]\n",
    "        self.Y_inv_diagrams = [self.persistence_diagrams[i][\"Y_inverted\"] \n",
    "                               for i in range(len(self.persistence_diagrams))]\n",
    "    \n",
    "    \n",
    "    def turn_list_to_dionysus_p_diagrams(self, diagram_list):\n",
    "        \"\"\"\n",
    "        diagrams_list should be a list of dictionaries indexed by outliers.\n",
    "        dictionaries contain 4 keys:\n",
    "        X\n",
    "        X_inverted\n",
    "        Y\n",
    "        Y_inverted\n",
    "        \n",
    "        Content of every value is (again) a list of persistence diagrams \n",
    "        of projections to axes in x_range or y_range respectively.\n",
    "        \n",
    "        hence to acces persistence pairs of inverse filtration along the 2nd axis of X-variable\n",
    "        after removing 10 outliers we need something like\n",
    "        self.diagrams_list[10]['X_inverted'][2]\n",
    "        \n",
    "        return: the same list with the last leafs turned into dionysus.PersistenceDiagram\n",
    "        \"\"\"\n",
    "        \n",
    "        persistence_diagrams = []\n",
    "        for dictionary in diagram_list:\n",
    "            dic = {}\n",
    "            for key, projection in dictionary.items():\n",
    "                proj = []\n",
    "                for diagram in projection:\n",
    "                    p_diagram = dionysus.PersistenceDiagram(0)\n",
    "                    if not diagram:\n",
    "                        diagram = [(0,0)]\n",
    "                    for pair in diagram:\n",
    "                        p_diagram.append(tuple(pair))\n",
    "                    proj.append(p_diagram)\n",
    "                dic[key] = proj\n",
    "            persistence_diagrams.append(dic)\n",
    "        return persistence_diagrams\n",
    "                \n",
    "        \n",
    "    def compute_score(self, list_of_persistence_diags, p=0):\n",
    "        \"\"\"\n",
    "        Computes score for a given list of diagrams\n",
    "        input: persistence_diags_of_projections: one entry of self.{X,Y}_{inv}_diagrams\n",
    "        return: list of scores\n",
    "        \"\"\"\n",
    "        scores = []\n",
    "        \n",
    "        for diagram in list_of_persistence_diags:\n",
    "            scores.append(self.distance(diagram, p))\n",
    "        result = max(scores)\n",
    "                          \n",
    "        return result\n",
    "                \n",
    "    def compute_score_stability(self, persistence_diagrams, p=0):\n",
    "        \"\"\"\n",
    "        input: all the diagrams of projections on a single axis (indexed by outliers)\n",
    "        return: list of scores for each outlier_removal\n",
    "        \"\"\"\n",
    "        stability = []\n",
    "        for i in persistence_diagrams:\n",
    "            stability.append(self.compute_score(i))\n",
    "        return stability\n",
    "    \n",
    "    def decide_causality(self, threshold=0):\n",
    "        \"\"\"\n",
    "        returns: 0 (undecided)\n",
    "                 1 (X->Y)\n",
    "                -1 (Y->X)\n",
    "        \"\"\"\n",
    "\n",
    "        self.X_dist = np.array(self.compute_score_stability(self.X_diagrams))\n",
    "        self.X_inv_dist = np.array(self.compute_score_stability(self.X_inv_diagrams))\n",
    "\n",
    "        self.Y_dist = np.array(self.compute_score_stability(self.Y_diagrams))\n",
    "        self.Y_inv_dist = np.array(self.compute_score_stability(self.Y_inv_diagrams))\n",
    "                          \n",
    "        l = self.X_dist.shape[0]\n",
    "        weighting_function = lambda x: 1.0 + 0*x\n",
    "#         weighting_function = lambda x: (-np.abs(x - l/2) + l/2)\n",
    "#         weighting_function = lambda x: np.exp(-np.power(x - l/2, 2.) / (2 * np.power(l/6, 2.)))\n",
    "        \n",
    "        domain = np.arange(0,l,1)\n",
    "        w = weighting_function(domain)\n",
    "        weighting = w/sum(w)\n",
    "        \n",
    "        X_integral = np.dot(np.maximum(self.X_dist, self.X_inv_dist), weighting)\n",
    "        Y_integral = np.dot(np.maximum(self.Y_dist, self.Y_inv_dist), weighting)\n",
    "        \n",
    "        self.confidence = np.abs(X_integral - Y_integral)\n",
    "                          \n",
    "        if self.confidence <= threshold:\n",
    "            causality = 0\n",
    "        else:\n",
    "            causality = int((Y_integral - X_integral)/np.abs(X_integral - Y_integral))\n",
    "        \n",
    "        return causality\n",
    "    \n",
    "    def distance(self, persistence_diagram, p=0):\n",
    "        \"\"\"Returns p-th Wasserstein distance between the filtration's 0-diagram\n",
    "        and the empty diagram.\n",
    "        If p=0 then the bottleneck is returned.\n",
    "\n",
    "        TODO: higher dimensions\"\"\"\n",
    "\n",
    "        if p > 0:\n",
    "            return dionysus.wasserstein_distance(\n",
    "                persistence_diagram, self.empty_diagram, p)\n",
    "        else:\n",
    "            return dionysus.bottleneck_distance(\n",
    "                persistence_diagram, self.empty_diagram)\n",
    "    "
   ]
  },
  {
   "cell_type": "code",
   "execution_count": 243,
   "metadata": {
    "collapsed": false,
    "scrolled": false
   },
   "outputs": [],
   "source": [
    "class AnalysisOfResults:\n",
    "        \n",
    "    def __init__(self, prefix='test', threshold=0, outlier_model='knn'):\n",
    "        \n",
    "        self.name = prefix\n",
    "        \n",
    "        pattern = re.compile('pair[0-9]{4,}$')\n",
    "        prefix_path = os.path.join(os.getcwd(),prefix)\n",
    "        dir_list = sorted([x for x in os.listdir(prefix_path) if pattern.match(x)])\n",
    "        self.pairs = []\n",
    "        \n",
    "        for directory in dir_list:\n",
    "            pair_dir = os.path.join(os.getcwd(),prefix,directory)\n",
    "            if outlier_model == 'knn':\n",
    "                path_to_diagrams = os.path.join(pair_dir,\"diagrams_knn\")\n",
    "            elif outlier_model == 'all':\n",
    "                path_to_diagrams = os.path.join(pair_dir,\"diagrams_all\")\n",
    "            else:\n",
    "                logging.warning(\"Results for model: %s not computed in %s\",\n",
    "                                str(outlier_model), str(outlier_model))\n",
    "        \n",
    "            self.pairs.append(PairResults(directory,path_to_diagrams))\n",
    "        \n",
    "        self.update_pairs_vectors(0)\n",
    "        self.all_weighted_efficiency = self.weighted_efficiency()\n",
    "        \n",
    "        self.update_pairs_vectors(threshold)\n",
    "\n",
    "    def update_pairs_vectors(self, threshold):\n",
    "        self.pairs.sort(key=lambda x: x.confidence, reverse=True)\n",
    "        \n",
    "        self.pairs_decided = [x for x in self.pairs if x.decide_causality(threshold) != 0]\n",
    "        self.decisions_vector = [x.causality_inferred for x in self.pairs_decided]\n",
    "\n",
    "        self.decisions_got_right = [x.causality_inferred == x.causality_true \n",
    "                                    for x in self.pairs_decided]\n",
    "        self.weighted_decisions = [x.weight*(x.causality_inferred == x.causality_true)\n",
    "                                       for x in self.pairs_decided]\n",
    "        \n",
    "        self.all_weights = [x.weight for x in self.pairs_decided]\n",
    "\n",
    "    def weighted_efficiency(self):\n",
    "        weighted_efficiency = []\n",
    "        for i in range(1,len(self.pairs)):\n",
    "            entry = sum(self.weighted_decisions[:i])/sum(self.all_weights[:i])\n",
    "            weighted_efficiency.append(entry)\n",
    "        return weighted_efficiency\n",
    "        \n",
    "def accuracy_plot(X, weighted_efficiency, max):\n",
    "    plt.plot(X.all_weighted_efficiency, color = 'black', alpha=0.3)\n",
    "    to_plot = weighted_efficiency[:max]\n",
    "    plt.plot(to_plot, alpha=0.6,label=X.name)\n",
    "    plt.ylim(0,1.05)\n",
    "    print(X.name, \"Decisions taken:\", max)\n",
    "    print(X.name, \"Final accuracy rate:\", to_plot[-1])"
   ]
  },
  {
   "cell_type": "code",
   "execution_count": 248,
   "metadata": {
    "collapsed": false
   },
   "outputs": [],
   "source": [
    "X = AnalysisOfResults(prefix=\"sampled-600\", threshold=0.0, outlier_model='knn')\n",
    "Y = AnalysisOfResults(prefix=\"sampled-1000\", threshold=0.0, outlier_model='knn')\n",
    "Z = AnalysisOfResults(prefix=\"local-sampled-2000\", threshold=0.0, outlier_model='knn')"
   ]
  },
  {
   "cell_type": "code",
   "execution_count": 259,
   "metadata": {
    "collapsed": false
   },
   "outputs": [],
   "source": [
    "A = [(x.name,x.confidence, x.causality_inferred)  for x in Y.pairs]"
   ]
  },
  {
   "cell_type": "code",
   "execution_count": 260,
   "metadata": {
    "collapsed": false
   },
   "outputs": [],
   "source": [
    "B = [('pair0042', 1.1096990298865401, 1),\n",
    " ('pair0026', 1.0016753406120271, 1),\n",
    " ('pair0068', 0.87706805158650947, -1),\n",
    " ('pair0027', 0.86558173055628063, 1),\n",
    " ('pair0032', 0.79101814547822558, 1),\n",
    " ('pair0029', 0.64542785928121815, 1),\n",
    " ('pair0048', 0.47876490945903932, 1),\n",
    " ('pair0021', 0.40375784460263758, 1),\n",
    " ('pair0059', 0.4029418688840215, 1),\n",
    " ('pair0030', 0.39689168639336958, 1),\n",
    " ('pair0031', 0.38629058296200169, 1),\n",
    " ('pair0028', 0.35884705128816058, 1),\n",
    " ('pair0003', 0.29251705893368657, 1),\n",
    " ('pair0034', 0.27439131182974941, 1),\n",
    " ('pair0020', 0.26434532625558621, 1),\n",
    " ('pair0057', 0.25447271129507165, 1),\n",
    " ('pair0035', 0.24900835215433781, 1),\n",
    " ('pair0013', 0.24106925854338312, 1),\n",
    " ('pair0017', 0.23899698339211939, -1),\n",
    " ('pair0062', 0.22792859528247733, 1),\n",
    " ('pair0063', 0.22059915126616375, 1),\n",
    " ('pair0016', 0.21821995188356666, 1),\n",
    " ('pair0064', 0.20127229286336795, -1),\n",
    " ('pair0001', 0.19602733529713351, 1),\n",
    " ('pair0022', 0.19491294046740859, -1),\n",
    " ('pair0072', 0.18474754959872447, 1),\n",
    " ('pair0060', 0.17616062284673473, -1),\n",
    " ('pair0051', 0.1688335805659783, 1),\n",
    " ('pair0085', 0.16820023973451906, 1),\n",
    " ('pair0053', 0.16136452367190152, -1),\n",
    " ('pair0019', 0.16011013662029888, 1),\n",
    " ('pair0058', 0.14425469161772675, 1),\n",
    " ('pair0069', 0.13717248949236543, -1),\n",
    " ('pair0011', 0.13671323690422235, 1),\n",
    " ('pair0039', 0.13529331965478958, 1),\n",
    " ('pair0041', 0.1343531533620162, -1),\n",
    " ('pair0036', 0.13395011064378859, 1),\n",
    " ('pair0054', 0.13349963856578831, -1),\n",
    " ('pair0050', 0.13084993162571662, 1),\n",
    " ('pair0010', 0.1303399952118936, 1),\n",
    " ('pair0055', 0.12444943641589923, -1),\n",
    " ('pair0005', 0.11589323956499886, 1),\n",
    " ('pair0002', 0.1148853760059238, -1),\n",
    " ('pair0012', 0.11186694129827343, 1),\n",
    " ('pair0007', 0.1053052296035967, 1),\n",
    " ('pair0024', 0.097466860672734579, 1),\n",
    " ('pair0056', 0.094412671248477964, -1),\n",
    " ('pair0076', 0.089131112343599106, -1),\n",
    " ('pair0004', 0.08526466057000337, 1),\n",
    " ('pair0006', 0.082490507303294575, 1),\n",
    " ('pair0049', 0.080801792676717665, 1),\n",
    " ('pair0071', 0.075955087616174088, -1),\n",
    " ('pair0079', 0.075064538673888681, 1),\n",
    " ('pair0080', 0.071536048272291486, 1),\n",
    " ('pair0078', 0.068516995984940016, 1),\n",
    " ('pair0018', 0.064524811697216772, 1),\n",
    " ('pair0077', 0.055462982403592098, 1),\n",
    " ('pair0075', 0.05339677531172822, -1),\n",
    " ('pair0040', 0.05162448957673571, -1),\n",
    " ('pair0087', 0.050350720658397102, -1),\n",
    " ('pair0015', 0.048299829959939977, -1),\n",
    " ('pair0082', 0.047476009052657253, -1),\n",
    " ('pair0088', 0.047458891880384491, -1),\n",
    " ('pair0065', 0.044981440128981087, 1),\n",
    " ('pair0046', 0.043103277686560887, 1),\n",
    " ('pair0061', 0.041053305801349471, -1),\n",
    " ('pair0073', 0.040899150081364799, -1),\n",
    " ('pair0074', 0.0357524742307678, 1),\n",
    " ('pair0025', 0.032612587746522648, -1),\n",
    " ('pair0086', 0.029647124439716122, -1),\n",
    " ('pair0067', 0.026623584781979903, -1),\n",
    " ('pair0038', 0.023602394090297019, 1),\n",
    " ('pair0043', 0.023328734054908724, 1),\n",
    " ('pair0009', 0.023082347540309106, 1),\n",
    " ('pair0083', 0.021761175133608313, -1),\n",
    " ('pair0014', 0.021441899635391615, 1),\n",
    " ('pair0081', 0.019546511877436723, 1),\n",
    " ('pair0045', 0.018959012866791247, 1),\n",
    " ('pair0052', 0.01462385630805596, -1),\n",
    " ('pair0008', 0.0085523019067910433, 1),\n",
    " ('pair0084', 0.0054011816699099657, -1),\n",
    " ('pair0066', 0.0034033874247551832, -1),\n",
    " ('pair0044', 0.0011149629284919454, -1)]"
   ]
  },
  {
   "cell_type": "code",
   "execution_count": 261,
   "metadata": {
    "collapsed": false
   },
   "outputs": [
    {
     "name": "stdout",
     "output_type": "stream",
     "text": [
      "('pair0042', 1.1096990298865401, 1) ('pair0042', 1.1096990298865401, 1)\n",
      "('pair0026', 1.0016753406120271, 1) ('pair0026', 1.0016753406120271, 1)\n",
      "('pair0068', 0.87706805158650947, -1) ('pair0068', 0.8770680515865095, -1)\n",
      "('pair0027', 0.86558173055628063, 1) ('pair0027', 0.8655817305562806, 1)\n",
      "('pair0032', 0.79101814547822558, 1) ('pair0032', 0.7910181454782256, 1)\n",
      "('pair0029', 0.64542785928121815, 1) ('pair0029', 0.6454278592812182, 1)\n",
      "('pair0048', 0.47876490945903932, 1) ('pair0048', 0.4787649094590393, 1)\n",
      "('pair0021', 0.40375784460263758, 1) ('pair0021', 0.4037578446026376, 1)\n",
      "('pair0059', 0.4029418688840215, 1) ('pair0059', 0.4029418688840215, 1)\n",
      "('pair0030', 0.39689168639336958, 1) ('pair0030', 0.3968916863933696, 1)\n",
      "('pair0031', 0.38629058296200169, 1) ('pair0031', 0.3862905829620017, 1)\n",
      "('pair0028', 0.35884705128816058, 1) ('pair0028', 0.3588470512881606, 1)\n",
      "('pair0003', 0.29251705893368657, 1) ('pair0003', 0.29251705893368657, 1)\n",
      "('pair0034', 0.27439131182974941, 1) ('pair0034', 0.2743913118297494, 1)\n",
      "('pair0020', 0.26434532625558621, 1) ('pair0020', 0.2643453262555862, 1)\n",
      "('pair0057', 0.25447271129507165, 1) ('pair0057', 0.25447271129507165, 1)\n",
      "('pair0035', 0.24900835215433781, 1) ('pair0035', 0.2490083521543378, 1)\n",
      "('pair0013', 0.24106925854338312, 1) ('pair0013', 0.24106925854338312, 1)\n",
      "('pair0017', 0.23899698339211939, -1) ('pair0017', 0.2389969833921194, -1)\n",
      "('pair0062', 0.22792859528247733, 1) ('pair0062', 0.22792859528247733, 1)\n",
      "('pair0063', 0.22059915126616375, 1) ('pair0063', 0.22059915126616375, 1)\n",
      "('pair0016', 0.21821995188356666, 1) ('pair0016', 0.21821995188356666, 1)\n",
      "('pair0064', 0.20127229286336795, -1) ('pair0064', 0.20127229286336795, -1)\n",
      "('pair0001', 0.19602733529713351, 1) ('pair0001', 0.1960273352971335, 1)\n",
      "('pair0022', 0.19491294046740859, -1) ('pair0022', 0.1949129404674086, -1)\n",
      "('pair0072', 0.18474754959872447, 1) ('pair0072', 0.18474754959872447, 1)\n",
      "('pair0060', 0.17616062284673473, -1) ('pair0060', 0.17616062284673473, -1)\n",
      "('pair0051', 0.1688335805659783, 1) ('pair0051', 0.1688335805659783, 1)\n",
      "('pair0085', 0.16820023973451906, 1) ('pair0085', 0.16820023973451906, 1)\n",
      "('pair0053', 0.16136452367190152, -1) ('pair0053', 0.16136452367190152, -1)\n",
      "('pair0019', 0.16011013662029888, 1) ('pair0019', 0.16011013662029888, 1)\n",
      "('pair0058', 0.14425469161772675, 1) ('pair0058', 0.14425469161772675, 1)\n",
      "('pair0069', 0.13717248949236543, -1) ('pair0069', 0.13717248949236543, -1)\n",
      "('pair0011', 0.13671323690422235, 1) ('pair0011', 0.13671323690422235, 1)\n",
      "('pair0039', 0.13529331965478958, 1) ('pair0039', 0.13529331965478958, 1)\n",
      "('pair0041', 0.1343531533620162, -1) ('pair0041', 0.1343531533620162, -1)\n",
      "('pair0036', 0.13395011064378859, 1) ('pair0036', 0.1339501106437886, 1)\n",
      "('pair0054', 0.13349963856578831, -1) ('pair0054', 0.1334996385657883, -1)\n",
      "('pair0050', 0.13084993162571662, 1) ('pair0050', 0.13084993162571662, 1)\n",
      "('pair0010', 0.1303399952118936, 1) ('pair0010', 0.1303399952118936, 1)\n",
      "('pair0055', 0.12444943641589923, -1) ('pair0055', 0.12444943641589923, -1)\n",
      "('pair0005', 0.11589323956499886, 1) ('pair0005', 0.11589323956499886, 1)\n",
      "('pair0002', 0.1148853760059238, -1) ('pair0002', 0.1148853760059238, -1)\n",
      "('pair0012', 0.11186694129827343, 1) ('pair0012', 0.11186694129827343, 1)\n",
      "('pair0007', 0.1053052296035967, 1) ('pair0007', 0.1053052296035967, 1)\n",
      "('pair0024', 0.097466860672734579, 1) ('pair0024', 0.09746686067273458, 1)\n",
      "('pair0056', 0.094412671248477964, -1) ('pair0056', 0.09441267124847796, -1)\n",
      "('pair0076', 0.089131112343599106, -1) ('pair0076', 0.0891311123435991, -1)\n",
      "('pair0004', 0.08526466057000337, 1) ('pair0004', 0.08526466057000337, 1)\n",
      "('pair0006', 0.082490507303294575, 1) ('pair0006', 0.08249050730329457, 1)\n",
      "('pair0049', 0.080801792676717665, 1) ('pair0049', 0.08080179267671767, 1)\n",
      "('pair0071', 0.075955087616174088, -1) ('pair0071', 0.07595508761617409, -1)\n",
      "('pair0079', 0.075064538673888681, 1) ('pair0079', 0.07506453867388868, 1)\n",
      "('pair0080', 0.071536048272291486, 1) ('pair0080', 0.07153604827229149, 1)\n",
      "('pair0078', 0.068516995984940016, 1) ('pair0078', 0.06851699598494002, 1)\n",
      "('pair0018', 0.064524811697216772, 1) ('pair0018', 0.06452481169721677, 1)\n",
      "('pair0077', 0.055462982403592098, 1) ('pair0077', 0.0554629824035921, 1)\n",
      "('pair0075', 0.05339677531172822, -1) ('pair0075', 0.05339677531172822, -1)\n",
      "('pair0040', 0.05162448957673571, -1) ('pair0040', 0.05162448957673571, -1)\n",
      "('pair0087', 0.050350720658397102, -1) ('pair0087', 0.0503507206583971, -1)\n",
      "('pair0015', 0.048299829959939977, -1) ('pair0015', 0.04829982995993998, -1)\n",
      "('pair0082', 0.047476009052657253, -1) ('pair0082', 0.04747600905265725, -1)\n",
      "('pair0088', 0.047458891880384491, -1) ('pair0088', 0.04745889188038449, -1)\n",
      "('pair0065', 0.044981440128981087, 1) ('pair0065', 0.04498144012898109, 1)\n",
      "('pair0046', 0.043103277686560887, 1) ('pair0046', 0.04310327768656089, 1)\n",
      "('pair0061', 0.041053305801349471, -1) ('pair0061', 0.04105330580134947, -1)\n",
      "('pair0073', 0.040899150081364799, -1) ('pair0073', 0.0408991500813648, -1)\n",
      "('pair0074', 0.0357524742307678, 1) ('pair0074', 0.0357524742307678, 1)\n",
      "('pair0025', 0.032612587746522648, -1) ('pair0025', 0.03261258774652265, -1)\n",
      "('pair0086', 0.029647124439716122, -1) ('pair0086', 0.02964712443971612, -1)\n",
      "('pair0067', 0.026623584781979903, -1) ('pair0067', 0.026623584781979903, -1)\n",
      "('pair0038', 0.023602394090297019, 1) ('pair0038', 0.02360239409029702, 1)\n",
      "('pair0043', 0.023328734054908724, 1) ('pair0043', 0.023328734054908724, 1)\n",
      "('pair0009', 0.023082347540309106, 1) ('pair0009', 0.023082347540309106, 1)\n",
      "('pair0083', 0.021761175133608313, -1) ('pair0083', 0.021761175133608313, -1)\n",
      "('pair0014', 0.021441899635391615, 1) ('pair0014', 0.021441899635391615, 1)\n",
      "('pair0081', 0.019546511877436723, 1) ('pair0081', 0.019546511877436723, 1)\n",
      "('pair0045', 0.018959012866791247, 1) ('pair0045', 0.018959012866791247, 1)\n",
      "('pair0052', 0.01462385630805596, -1) ('pair0052', 0.01462385630805596, -1)\n",
      "('pair0008', 0.0085523019067910433, 1) ('pair0008', 0.008552301906791043, 1)\n",
      "('pair0084', 0.0054011816699099657, -1) ('pair0084', 0.005401181669909966, -1)\n",
      "('pair0066', 0.0034033874247551832, -1) ('pair0066', 0.003403387424755183, -1)\n",
      "('pair0044', 0.0011149629284919454, -1) ('pair0044', 0.0011149629284919454, -1)\n"
     ]
    }
   ],
   "source": [
    "for i in range(len(A)):\n",
    "    print(A[i],B[i])"
   ]
  },
  {
   "cell_type": "code",
   "execution_count": 249,
   "metadata": {
    "collapsed": false
   },
   "outputs": [
    {
     "name": "stdout",
     "output_type": "stream",
     "text": [
      "sampled-600 Decisions taken: 83\n",
      "sampled-600 Final accuracy rate: 0.676931884058\n",
      "sampled-1000 Decisions taken: 83\n",
      "sampled-1000 Final accuracy rate: 0.696255072464\n",
      "local-sampled-2000 Decisions taken: 83\n",
      "local-sampled-2000 Final accuracy rate: 0.72524057971\n"
     ]
    },
    {
     "data": {
      "image/png": "[encoded data removed]",
      "text/plain": [
       "<matplotlib.figure.Figure at 0xaa4e980c>"
      ]
     },
     "metadata": {},
     "output_type": "display_data"
    },
    {
     "data": {
      "text/plain": [
       "None"
      ]
     },
     "metadata": {},
     "output_type": "display_data"
    }
   ],
   "source": [
    "from IPython.html.widgets import widget, interact, interactive, fixed, FloatSlider, Dropdown\n",
    "\n",
    "@interact(threshold = (0,1,0.01))\n",
    "def dummy(threshold):\n",
    "    fig = plt.figure(figsize=(26,14), dpi=200) \n",
    "#     Y = AnalysisOfResults(files, prefix, threshold, outlier_model='all')\n",
    "#     Y.plot(threshold)\n",
    "    for a in [X,Y,Z]:\n",
    "        a.update_pairs_vectors(threshold)\n",
    "        accuracy_plot(a, a.weighted_efficiency(), len(a.decisions_vector))\n",
    "    plt.legend(loc=0)\n",
    "    plt.grid()\n",
    "    plt.show()"
   ]
  },
  {
   "cell_type": "code",
   "execution_count": 218,
   "metadata": {
    "collapsed": false
   },
   "outputs": [
    {
     "name": "stdout",
     "output_type": "stream",
     "text": [
      "Decisions taken: 61\n",
      "Final accuracy rate: 0.69757593985\n"
     ]
    },
    {
     "data": {
      "image/png": "[encoded data removed]",
      "text/plain": [
       "<matplotlib.figure.Figure at 0xac5bb28c>"
      ]
     },
     "metadata": {},
     "output_type": "display_data"
    },
    {
     "data": {
      "text/plain": [
       "None"
      ]
     },
     "metadata": {},
     "output_type": "display_data"
    }
   ],
   "source": [
    "from IPython.html.widgets import widget, interact, interactive, fixed, FloatSlider, Dropdown\n",
    "\n",
    "X = AnalysisOfResults(prefix=\"sampled-600\", threshold=0.0, outlier_model='all')\n",
    "\n",
    "@interact(threshold = (0,1,0.01))\n",
    "def dummy(threshold):\n",
    "    fig = plt.figure(figsize=(12,12))\n",
    "    fig.set_size_inches(13,6) \n",
    "#     Y = AnalysisOfResults(files, prefix, threshold, outlier_model='all')\n",
    "#     Y.plot(threshold)\n",
    "    X.update_pairs_vectors(threshold)\n",
    "    accuracy_plot(X, X.weighted_efficiency(), len(X.decisions_vector))\n",
    "    plt.show()"
   ]
  },
  {
   "cell_type": "code",
   "execution_count": 87,
   "metadata": {
    "collapsed": false,
    "scrolled": true
   },
   "outputs": [
    {
     "name": "stdout",
     "output_type": "stream",
     "text": [
      "pair0010 remains undecided!\n",
      "pair0086 remains undecided!\n",
      "pair0061 remains undecided!\n",
      "pair0016 remains undecided!\n",
      "pair0052 remains undecided!\n",
      "pair0045 remains undecided!\n",
      "pair0007 remains undecided!\n",
      "pair0074 remains undecided!\n",
      "pair0088 remains undecided!\n",
      "pair0020 remains undecided!\n",
      "pair0034 remains undecided!\n",
      "pair0075 remains undecided!\n",
      "pair0041 remains undecided!\n",
      "pair0039 remains undecided!\n",
      "pair0012 remains undecided!\n",
      "pair0022 remains undecided!\n",
      "pair0084 remains undecided!\n",
      "pair0005 remains undecided!\n",
      "pair0043 remains undecided!\n",
      "pair0040 remains undecided!\n",
      "pair0044 remains undecided!\n",
      "62\n"
     ]
    }
   ],
   "source": [
    "test.update_pairs_vectors(0.05)"
   ]
  },
  {
   "cell_type": "code",
   "execution_count": 80,
   "metadata": {
    "collapsed": false
   },
   "outputs": [
    {
     "name": "stdout",
     "output_type": "stream",
     "text": [
      "pair0010 remains undecided!\n",
      "pair0086 remains undecided!\n",
      "pair0061 remains undecided!\n",
      "pair0016 remains undecided!\n",
      "pair0052 remains undecided!\n",
      "pair0045 remains undecided!\n",
      "pair0007 remains undecided!\n",
      "pair0074 remains undecided!\n",
      "pair0088 remains undecided!\n",
      "pair0020 remains undecided!\n",
      "pair0034 remains undecided!\n",
      "pair0075 remains undecided!\n",
      "pair0041 remains undecided!\n",
      "pair0039 remains undecided!\n",
      "pair0012 remains undecided!\n",
      "pair0022 remains undecided!\n",
      "pair0084 remains undecided!\n",
      "pair0005 remains undecided!\n",
      "pair0043 remains undecided!\n",
      "pair0040 remains undecided!\n",
      "pair0044 remains undecided!\n"
     ]
    },
    {
     "data": {
      "text/plain": [
       "[1,\n",
       " 1,\n",
       " 1,\n",
       " -1,\n",
       " 1,\n",
       " 1,\n",
       " 1,\n",
       " 1,\n",
       " -1,\n",
       " 1,\n",
       " -1,\n",
       " 1,\n",
       " -1,\n",
       " 1,\n",
       " 1,\n",
       " 1,\n",
       " 1,\n",
       " 1,\n",
       " 1,\n",
       " -1,\n",
       " 1,\n",
       " 1,\n",
       " -1,\n",
       " -1,\n",
       " 1,\n",
       " -1,\n",
       " 1,\n",
       " 1,\n",
       " -1,\n",
       " 1,\n",
       " -1,\n",
       " 1,\n",
       " 1,\n",
       " 1,\n",
       " -1,\n",
       " 1,\n",
       " 1,\n",
       " 1,\n",
       " 1,\n",
       " -1,\n",
       " -1,\n",
       " 1,\n",
       " -1,\n",
       " -1,\n",
       " -1,\n",
       " -1,\n",
       " -1,\n",
       " 1,\n",
       " 1,\n",
       " -1,\n",
       " -1,\n",
       " 1,\n",
       " -1,\n",
       " 1,\n",
       " -1,\n",
       " 1,\n",
       " 1,\n",
       " -1,\n",
       " -1,\n",
       " 1,\n",
       " 1,\n",
       " -1,\n",
       " 0,\n",
       " 0,\n",
       " 0,\n",
       " 0,\n",
       " 0,\n",
       " 0,\n",
       " 0,\n",
       " 0,\n",
       " 0,\n",
       " 0,\n",
       " 0,\n",
       " 0,\n",
       " 0,\n",
       " 0,\n",
       " 0,\n",
       " 0,\n",
       " 0,\n",
       " 0,\n",
       " 0,\n",
       " 0,\n",
       " 0]"
      ]
     },
     "execution_count": 80,
     "metadata": {},
     "output_type": "execute_result"
    }
   ],
   "source": [
    "[x.decide_causality(0.05) for x in test.pairs]"
   ]
  },
  {
   "cell_type": "code",
   "execution_count": 58,
   "metadata": {
    "collapsed": false
   },
   "outputs": [
    {
     "name": "stdout",
     "output_type": "stream",
     "text": [
      "[1.1475790465692062, 0.84798213040793635, 0.78555208492949369, 0.69802203833648702, 0.52510611791862349, 0.51525075944331611, 0.47876490945903932, 0.43258683292280864, 0.41846909792517389, 0.40294186888402156, 0.334433893140959, 0.30796425477548112, 0.29068125743302625, 0.28459593359813623, 0.26294980307914806, 0.25447271129507165, 0.25169521171958242, 0.23718256857215786, 0.23386865302437748, 0.23089896690646039, 0.22792859528247722, 0.22059915126616375, 0.21628017941600913, 0.20870362927081582, 0.20212562463547518, 0.20127229286336795, 0.20046025302398218, 0.19959504628411151, 0.19734141377641296, 0.19062346284111992, 0.17616062284673462, 0.17056927134031447, 0.16011013662029888, 0.15687667502250827, 0.15500985614071056, 0.1449375302963235, 0.14425469161772664, 0.13315991477357531, 0.12881162084498909, 0.12444943641589923, 0.10901505927351685, 0.10426830079342075, 0.10245216780634214, 0.094412671248477853, 0.093906278936431359, 0.093646508050270916, 0.090358776056670365, 0.089714233073766331, 0.087289029113215844, 0.086651501846726847, 0.081689242922558636, 0.078251833457707809, 0.075955087616174088, 0.075522670500047975, 0.066183490168138404, 0.063976989394216977, 0.063447939302660974, 0.059250602917902018, 0.05821220061132229, 0.056152447632352331, 0.053756711381461431, 0.050881153836722093, 0.045274919008141401, 0.041466398321328202, 0.041053305801349527, 0.039425478614100784, 0.038487197986783739, 0.037318805613343956, 0.036549981537984333, 0.035752474230767745, 0.033477301742513954, 0.029389154559574082, 0.028954430205213932, 0.028813354355375, 0.020086984351415371, 0.019296391449016348, 0.016376657807212813, 0.012940117241511229, 0.0063786738632774162, 0.0042596829780923162, 0.0020906976977977665, 0.0017753541158292974, 0.00072372493570118659]\n"
     ]
    }
   ],
   "source": [
    "print([p.confidence for p in test.pairs])"
   ]
  },
  {
   "cell_type": "code",
   "execution_count": 54,
   "metadata": {
    "collapsed": false
   },
   "outputs": [
    {
     "name": "stdout",
     "output_type": "stream",
     "text": [
      "[1.1475790465692062, 0.84798213040793635, 0.78555208492949358, 0.69802203833648691, 0.52510611791862349, 0.51525075944331611, 0.47876490945903938, 0.43258683292280864, 0.41846909792517395, 0.40294186888402156, 0.334433893140959, 0.30796425477548112, 0.29068125743302625, 0.28459593359813623, 0.26294980307914806, 0.25447271129507165, 0.25169521171958242, 0.23718256857215791, 0.23386865302437748, 0.23089896690646039, 0.2279285952824773, 0.22059915126616378, 0.21628017941600911, 0.20870362927081582, 0.2021256246354752, 0.20127229286336798, 0.20046025302398215, 0.19959504628411148, 0.1973414137764129, 0.19062346284111989, 0.17616062284673464, 0.17056927134031447, 0.16011013662029891, 0.15687667502250827, 0.15500985614071053, 0.14493753029632347, 0.14425469161772675, 0.13315991477357528, 0.12881162084498912, 0.12444943641589923, 0.10901505927351683, 0.10426830079342077, 0.10245216780634223, 0.094412671248477922, 0.093906278936431387, 0.093646508050270916, 0.090358776056670351, 0.089714233073766358, 0.08728902911321583, 0.086651501846726861, 0.081689242922558594, 0.078251833457707795, 0.075955087616173922, 0.075522670500047975, 0.066183490168138445, 0.063976989394216949, 0.063447939302660974, 0.059250602917902032, 0.058212200611322283, 0.056152447632352318, 0.053756711381461444, 0.050881153836722127, 0.045274919008141443, 0.041466398321328236, 0.041053305801349423, 0.039425478614100812, 0.038487197986783767, 0.037318805613343956, 0.036549981537984347, 0.035752474230767779, 0.033477301742513947, 0.029389154559574079, 0.028954430205213912, 0.028813354355375007, 0.02008698435141542, 0.019296391449016306, 0.016376657807212779, 0.012940117241511236, 0.0063786738632774179, 0.004259682978092331, 0.0020906976977977721, 0.00177535411582929, 0.00072372493570118659]\n"
     ]
    }
   ],
   "source": [
    "test.de\n",
    "print([p.confidence for p in test.pairs])"
   ]
  },
  {
   "cell_type": "code",
   "execution_count": null,
   "metadata": {
    "collapsed": true
   },
   "outputs": [],
   "source": []
  },
  {
   "cell_type": "code",
   "execution_count": null,
   "metadata": {
    "collapsed": true
   },
   "outputs": [],
   "source": []
  },
  {
   "cell_type": "code",
   "execution_count": null,
   "metadata": {
    "collapsed": true
   },
   "outputs": [],
   "source": []
  },
  {
   "cell_type": "code",
   "execution_count": null,
   "metadata": {
    "collapsed": true
   },
   "outputs": [],
   "source": []
  },
  {
   "cell_type": "code",
   "execution_count": null,
   "metadata": {
    "collapsed": true
   },
   "outputs": [],
   "source": []
  },
  {
   "cell_type": "code",
   "execution_count": null,
   "metadata": {
    "collapsed": true
   },
   "outputs": [],
   "source": []
  }
 ],
 "metadata": {
  "kernelspec": {
   "display_name": "Python 3",
   "language": "python",
   "name": "python3"
  },
  "language_info": {
   "codemirror_mode": {
    "name": "ipython",
    "version": 3
   },
   "file_extension": ".py",
   "mimetype": "text/x-python",
   "name": "python",
   "nbconvert_exporter": "python",
   "pygments_lexer": "ipython3",
   "version": "3.5.0"
  }
 },
 "nbformat": 4,
 "nbformat_minor": 0
}
