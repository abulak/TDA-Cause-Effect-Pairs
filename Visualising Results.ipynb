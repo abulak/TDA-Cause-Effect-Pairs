{
 "cells": [
  {
   "cell_type": "code",
   "execution_count": 1,
   "metadata": {
    "collapsed": false,
    "scrolled": true
   },
   "outputs": [],
   "source": [
    "import numpy as np\n",
    "import matplotlib.pyplot as plt\n",
    "%matplotlib inline\n",
    "\n",
    "from matplotlib.collections import LineCollection\n",
    "\n",
    "import re\n",
    "import sys\n",
    "import os\n",
    "import json\n",
    "\n",
    "path = os.path.abspath(os.path.join(os.getcwd(), os.pardir))\n",
    "# sys.path.append(\"/home/kalmar/Mathematics/Software/Dionysus/build-x64/bindings/python/\")\n",
    "sys.path.append(os.path.join(path,\"Dionysus-python3/build/bindings/python\"))\n",
    "import dionysus\n",
    "\n",
    "%reload_ext autoreload\n",
    "%autoreload 2\n",
    "\n",
    "import TDA"
   ]
  },
  {
   "cell_type": "code",
   "execution_count": 4,
   "metadata": {
    "collapsed": false
   },
   "outputs": [
    {
     "name": "stdout",
     "output_type": "stream",
     "text": [
      "83\n",
      "['pair0001', 'pair0002', 'pair0003', 'pair0004']\n"
     ]
    }
   ],
   "source": [
    "prefix = 'sampled-2000'\n",
    "prefix = 'test'\n",
    "pattern = re.compile('pair[0-9]{4,}$')\n",
    "files = sorted([x for x in os.listdir(os.path.join(os.getcwd(),prefix)) if pattern.match(x)])\n",
    "print(len(files))\n",
    "print(files[:4])"
   ]
  },
  {
   "cell_type": "code",
   "execution_count": 7,
   "metadata": {
    "collapsed": false
   },
   "outputs": [
    {
     "name": "stdout",
     "output_type": "stream",
     "text": [
      "pair0054\n"
     ]
    }
   ],
   "source": [
    "i = 49\n",
    "print(files[i])\n",
    "directory = directory = os.path.join(os.getcwd(),prefix,files[i])\n",
    "with open(os.path.join(directory,\"diagrams_knn\")) as file:\n",
    "    diagrams = json.load(file)"
   ]
  },
  {
   "cell_type": "code",
   "execution_count": 8,
   "metadata": {
    "collapsed": false
   },
   "outputs": [
    {
     "name": "stdout",
     "output_type": "stream",
     "text": [
      "projection on 0 axis X\n",
      "[[1.4394171999239531, 1.6900722076183898]]\n",
      "projection on 1 axis X\n",
      "[[1.3322045080447715, 1.4329936227473654]]\n",
      "projection on 2 axis X\n",
      "[]\n",
      "projection on 0 axis Y\n",
      "[[1.4453953140918707, 1.5108128046752323]]\n",
      "projection on 1 axis Y\n",
      "[[1.5330953421250708, 1.5987876974384105]]\n",
      "projection on 0 axis Y_inverted\n",
      "[]\n",
      "projection on 1 axis Y_inverted\n",
      "[[3.484979449372683, 3.5383544880647717]]\n",
      "projection on 0 axis X_inverted\n",
      "[[1.8367670235969369, 3.7195559502459674]]\n",
      "projection on 1 axis X_inverted\n",
      "[[0.20401667572863813, 0.27635724999098343]]\n",
      "projection on 2 axis X_inverted\n",
      "[[0.19053334555839552, 0.3297692519279929]]\n"
     ]
    }
   ],
   "source": [
    "for key, value in diagrams[0].items():\n",
    "    for i, pairs in enumerate(value): \n",
    "        print(\"projection on\",i,\"axis\", key)\n",
    "        print(pairs)"
   ]
  },
  {
   "cell_type": "code",
   "execution_count": 9,
   "metadata": {
    "collapsed": false
   },
   "outputs": [],
   "source": [
    "class dummy:\n",
    "    \n",
    "    def __init__(self, diagrams):\n",
    "        self.diagrams_list = diagrams\n",
    "        self.create_persistence_diagrams()\n",
    "    \n",
    "    def create_persistence_diagrams(self):\n",
    "        self.persistence_diagrams = []\n",
    "        for dictionary in self.diagrams_list:\n",
    "            dic = {}\n",
    "            for key, projection in dictionary.items():\n",
    "                proj = []\n",
    "                for diagram in projection:\n",
    "                    p_diagram = dionysus.PersistenceDiagram(0)\n",
    "                    for pair in diagram:\n",
    "                        p_diagram.append(tuple(pair))\n",
    "                    proj.append(p_diagram)\n",
    "                dic[key] = proj\n",
    "            self.persistence_diagrams.append(dic)"
   ]
  },
  {
   "cell_type": "code",
   "execution_count": 17,
   "metadata": {
    "collapsed": false
   },
   "outputs": [
    {
     "data": {
      "text/plain": [
       "1.71405 2.01252"
      ]
     },
     "execution_count": 17,
     "metadata": {},
     "output_type": "execute_result"
    }
   ],
   "source": [
    "x = dummy(diagrams)\n",
    "x.persistence_diagrams[23][\"X\"][0]"
   ]
  },
  {
   "cell_type": "code",
   "execution_count": 14,
   "metadata": {
    "collapsed": false
   },
   "outputs": [
    {
     "data": {
      "text/plain": [
       "58"
      ]
     },
     "execution_count": 14,
     "metadata": {},
     "output_type": "execute_result"
    }
   ],
   "source": [
    "len(x.persistence_diagrams)"
   ]
  },
  {
   "cell_type": "code",
   "execution_count": 15,
   "metadata": {
    "collapsed": false
   },
   "outputs": [
    {
     "data": {
      "text/plain": [
       "[[1.7140457170643943, 2.012523561029362]]"
      ]
     },
     "execution_count": 15,
     "metadata": {},
     "output_type": "execute_result"
    }
   ],
   "source": [
    "diagrams[23][\"X\"][0]"
   ]
  },
  {
   "cell_type": "code",
   "execution_count": null,
   "metadata": {
    "collapsed": true
   },
   "outputs": [],
   "source": [
    "# for each in files[3:]:\n",
    "#     p=Pair(prefix,each)"
   ]
  },
  {
   "cell_type": "code",
   "execution_count": 49,
   "metadata": {
    "collapsed": false
   },
   "outputs": [],
   "source": [
    "class ComputedResults:\n",
    "    \n",
    "    def __init__(self, prefix='test', outlier_model='knn'):\n",
    "    \n",
    "        pattern = re.compile('pair[0-9]{4,}$')\n",
    "        prefix_path = os.path.join(os.getcwd(),prefix)\n",
    "        dir_list = sorted([x for x in os.listdir(prefix_path) if pattern.match(x)])\n",
    "        self.pairs = []\n",
    "        \n",
    "        for directory in dir_list:\n",
    "            pair_dir = os.path.join(os.getcwd(),prefix,directory)\n",
    "            if outlier_model == 'knn':\n",
    "                path_to_diagrams = os.path.join(pair_dir,\"diagrams_knn\")\n",
    "            elif outlier_model == 'all':\n",
    "                path_to_diagrams = os.path.join(pair_dir,\"diagrams_all\")\n",
    "            else:\n",
    "                logging.warning(\"Results for model: %s not computed in %s\",\n",
    "                                str(outlier_model), str(outlier_model))\n",
    "        \n",
    "            self.pairs.append(PairResults(f,path_to_diagrams))\n",
    "        \n",
    "class PairResults():\n",
    "    try:\n",
    "        all_pairs_metadata = np.loadtxt(os.path.join(os.getcwd(), 'pairs', 'pairmeta.txt'))\n",
    "    except FileNotFoundError:\n",
    "        logging.warning(\"No metadata found! All is set to 0\")\n",
    "        all_pairs_metadata = np.zeros((88, 6))\n",
    "    \n",
    "    empty_diagram = dionysus.PersistenceDiagram(0)\n",
    "    empty_diagram.append((0, 0))\n",
    "    \n",
    "    def __init__(self, name, path_to_diagrams, threshold=0):\n",
    "        if name[-4:] == '.txt':\n",
    "            name = name[:-4]\n",
    "        self.name = name\n",
    "        self.number = int(name[-4:])\n",
    "        \n",
    "        self.metadata = self.all_pairs_metadata[self.number-1]\n",
    "        \n",
    "        if self.metadata[1] == 1:     # i.e. X --> Y\n",
    "            self.causality_true = 1  \n",
    "        else:                         # i.e. Y --> X\n",
    "            self.causality_true = -1  \n",
    "        self.weight = self.metadata[5]\n",
    "        \n",
    "        self.x_range = range(int(self.metadata[2] - self.metadata[1]))\n",
    "        self.y_range = range(int(self.metadata[4] - self.metadata[3]))\n",
    "        \n",
    "        with open(path_to_diagrams, 'r') as diagrams:\n",
    "            self.persistence_list = json.load(diagrams)\n",
    "        \n",
    "        self.persistence_diagrams = self.create_persistence_diagrams(self.persistence_list)\n",
    "        \n",
    "        # self. diagrams_list is a list of dictionaries indexed by outliers.\n",
    "        # dictionaries contain 4 keys:\n",
    "        # X\n",
    "        # X_inverted\n",
    "        # Y\n",
    "        # Y_inverted\n",
    "        \n",
    "        # Content of every value is (again) a list of persistence diagrams \n",
    "        # of projections to axes in x_range or y_range respectively.\n",
    "        \n",
    "        # hence to acces persistence pairs of inverse filtration along the 2nd axis of X-variable\n",
    "        # after removing 10 outliers we need something like\n",
    "        # self.diagrams_list[10]['X_inverted'][2]\n",
    "        \n",
    "        self.X_diagrams = [self.persistence_diagrams[i][\"X\"]\n",
    "                           for i in range(len(self.persistence_diagrams))]\n",
    "        self.Y_diagrams = [self.persistence_diagrams[i][\"Y\"]\n",
    "                           for i in range(len(self.persistence_diagrams))]\n",
    "        self.X_inv_diagrams = [self.persistence_diagrams[i][\"X_inverted\"] \n",
    "                               for i in range(len(self.persistence_diagrams))]\n",
    "        self.Y_inv_diagrams = [self.persistence_diagrams[i][\"Y_inverted\"] \n",
    "                               for i in range(len(self.persistence_diagrams))]\n",
    "        \n",
    "        \n",
    "        \n",
    "        \n",
    "        #----------------------\n",
    "        #  causality_inferred = 0 (undecided)\n",
    "        #                   1 (X->Y)\n",
    "        #                  -1 (Y->X)\n",
    "        #---------------------\n",
    "        self.causality_inferred = self.decide_causality()\n",
    "    \n",
    "    def create_persistence_diagrams(self, diagram_list):\n",
    "        \"\"\"Do not touch\"\"\"\n",
    "        persistence_diagrams = []\n",
    "        for dictionary in diagram_list:\n",
    "            dic = {}\n",
    "            for key, projection in dictionary.items():\n",
    "                proj = []\n",
    "                for diagram in projection:\n",
    "                    p_diagram = dionysus.PersistenceDiagram(0)\n",
    "                    if not diagram:\n",
    "                        diagram = [(0,0)]\n",
    "                    for pair in diagram:\n",
    "                        p_diagram.append(tuple(pair))\n",
    "                    proj.append(p_diagram)\n",
    "                dic[key] = proj\n",
    "            persistence_diagrams.append(dic)\n",
    "        return persistence_diagrams\n",
    "                \n",
    "        \n",
    "    def compute_score(self, list_of_persistence_diags, p=0):\n",
    "        \"\"\"\n",
    "        Computes score for a given list of diagrams\n",
    "        input: persistence_diags_of_projections: one entry of self.{X,Y}_{inv}_diagrams\n",
    "        return: list of scores\n",
    "        \"\"\"\n",
    "        scores = []\n",
    "        \n",
    "        for diagram in list_of_persistence_diags:\n",
    "            scores.append(self.distance(diagram, p))\n",
    "        result = max(scores)\n",
    "                          \n",
    "        return result\n",
    "                \n",
    "    def compute_score_stability(self, persistence_diagrams, p=0):\n",
    "        \"\"\"\n",
    "        input: all the diagrams of projections on a single axis (indexed by outliers)\n",
    "        return: list of scores for each outlier_removal\n",
    "        \"\"\"\n",
    "        stability = []\n",
    "        for i in persistence_diagrams:\n",
    "            stability.append(self.compute_score(i))\n",
    "        return stability\n",
    "    \n",
    "    def decide_causality(self, threshold=0):\n",
    "        self.X_dist = np.array(self.compute_score_stability(self.X_diagrams))\n",
    "        self.X_inv_dist = np.array(self.compute_score_stability(self.X_inv_diagrams))\n",
    "\n",
    "        self.Y_dist = np.array(self.compute_score_stability(self.Y_diagrams))\n",
    "        self.Y_inv_dist = np.array(self.compute_score_stability(self.Y_inv_diagrams))\n",
    "                          \n",
    "        weighting = np.ones(self.X_dist.shape)\n",
    "                          \n",
    "        X_integral = np.dot(np.maximum(self.X_dist, self.X_inv_dist), weighting)\n",
    "        Y_integral = np.dot(np.maximum(self.Y_dist, self.Y_inv_dist), weighting)\n",
    "        \n",
    "        self.confidence = np.abs(X_integral - Y_integral)/self.X_dist.shape[0]\n",
    "                          \n",
    "        if self.confidence <= threshold:\n",
    "            causality = 0\n",
    "        else:\n",
    "            causality = int((Y_integral - X_integral)/np.abs(X_integral - Y_integral))\n",
    "        \n",
    "        return causality\n",
    "    \n",
    "    def distance(self, persistence_diagram, p=0):\n",
    "        \"\"\"Returns p-th Wasserstein distance between the filtration's 0-diagram\n",
    "        and the empty diagram.\n",
    "        If p=0 then the bottleneck is returned.\n",
    "\n",
    "        TODO: higher dimensions\"\"\"\n",
    "\n",
    "        if p > 0:\n",
    "            return dionysus.wasserstein_distance(\n",
    "                persistence_diagram, self.empty_diagram, p)\n",
    "        else:\n",
    "            return dionysus.bottleneck_distance(\n",
    "                persistence_diagram, self.empty_diagram)\n",
    "    "
   ]
  },
  {
   "cell_type": "code",
   "execution_count": 54,
   "metadata": {
    "collapsed": false,
    "scrolled": false
   },
   "outputs": [],
   "source": [
    "class AnalysisOfResults:\n",
    "        \n",
    "    def __init__(self, prefix='test', threshold=0, outlier_model='knn'):\n",
    "        \n",
    "        pattern = re.compile('pair[0-9]{4,}$')\n",
    "        prefix_path = os.path.join(os.getcwd(),prefix)\n",
    "        dir_list = sorted([x for x in os.listdir(prefix_path) if pattern.match(x)])\n",
    "        self.pairs = []\n",
    "        \n",
    "        for directory in dir_list:\n",
    "            pair_dir = os.path.join(os.getcwd(),prefix,directory)\n",
    "            if outlier_model == 'knn':\n",
    "                path_to_diagrams = os.path.join(pair_dir,\"diagrams_knn\")\n",
    "            elif outlier_model == 'all':\n",
    "                path_to_diagrams = os.path.join(pair_dir,\"diagrams_all\")\n",
    "            else:\n",
    "                logging.warning(\"Results for model: %s not computed in %s\",\n",
    "                                str(outlier_model), str(outlier_model))\n",
    "        \n",
    "            self.pairs.append(PairResults(directory,path_to_diagrams))\n",
    "        \n",
    "        self.pairs.sort(key=lambda x: x.confidence, reverse=True)\n",
    "        self.pairs_decided = [x for x in self.pairs if x.causality_inferred != 0]\n",
    "        print(len(self.pairs_decided))\n",
    "        self.decisions_vector = [x.causality_inferred for x in self.pairs_decided]\n",
    "\n",
    "        self.decisions_got_right = [x.causality_inferred == x.causality_true \n",
    "                                    for x in self.pairs_decided]\n",
    "        self.weighted_decisions = [x.weight*(x.causality_inferred == x.causality_true)\n",
    "                                       for x in self.pairs_decided]\n",
    "        \n",
    "        self.all_weights = [x.weight for x in self.pairs_decided]\n",
    "#         self.weighted_efficiency = sum(self.weighted_decisions)/sum(self.all_weights)\n",
    "        \n",
    "        #auxilary helper functions\n",
    "        \n",
    "#         self.pair_confidences = [[result.number, result.confidence] \n",
    "#                           for result in self.results if result.right != -1]\n",
    "#         self.correct_pair_confidences = [[result.number, result.confidence] \n",
    "#                                   for result in self.results if result.right == 1]\n",
    "#         self.wrong_pair_confidences = [[result.number, result.confidence] \n",
    "#                                   for result in self.results if result.right == 0]\n",
    "#         self.undecided_pair_confidences = [[result.number, result.confidence] \n",
    "#                                   for result in self.results if result.right == -1]\n",
    "\n",
    "    def weighted_efficiency(self,i):\n",
    "        return sum(self.weighted_decisions[:i])/sum(self.all_weights[:i])\n",
    "        \n",
    "    def plot(self, threshold=0):       \n",
    "        max = len([x for x in self.pairs if \n",
    "                   x.confidence >= threshold and \n",
    "                   x.causality_inferred != 0])\n",
    "        to_plot = [self.weighted_efficiency(i) for i in range(1,len(self.decisions_vector)+1)]\n",
    "        plt.plot(to_plot, color = 'black', alpha = 0.2)\n",
    "        plt.plot(to_plot[:max], alpha = 0.6)\n",
    "        plt.ylim(0,1.05)\n",
    "        print(to_plot[max-1])"
   ]
  },
  {
   "cell_type": "code",
   "execution_count": 55,
   "metadata": {
    "collapsed": false
   },
   "outputs": [
    {
     "name": "stdout",
     "output_type": "stream",
     "text": [
      "[1.1096990298865399, 1.0016753406120271, 0.87706805158650991, 0.86558173055628118, 0.79101814547822558, 0.64542785928121871, 0.47876490945903938, 0.40375784460263736, 0.40294186888402139, 0.39689168639336975, 0.38629058296200208, 0.35884705128816063, 0.29251705893368646, 0.27439131182974963, 0.26434532625558627, 0.25447271129507165, 0.24900835215433781, 0.24106925854338318, 0.23899698339211947, 0.2279285952824773, 0.22059915126616389, 0.21821995188356669, 0.20127229286336781, 0.1960273352971334, 0.19491294046740876, 0.18474754959872453, 0.17616062284673464, 0.16883358056597833, 0.16820023973451931, 0.16136452367190182, 0.16011013662029885, 0.14425469161772675, 0.13717248949236543, 0.13671323690422232, 0.13529331965478972, 0.134353153362016, 0.13395011064378848, 0.13349963856578825, 0.13084993162571659, 0.13033999521189366, 0.12444943641589923, 0.11589323956499888, 0.11488537600592369, 0.11186694129827361, 0.10530522960359655, 0.097466860672734565, 0.094412671248477853, 0.089131112343599009, 0.085264660570003384, 0.082490507303294713, 0.080801792676717638, 0.075955087616174116, 0.07506453867388882, 0.071536048272291597, 0.068516995984940085, 0.064524811697216786, 0.055462982403592133, 0.053396775311728213, 0.051624489576735731, 0.050350720658397276, 0.048299829959940005, 0.047476009052657184, 0.047458891880384504, 0.044981440128981136, 0.043103277686560873, 0.041053305801349298, 0.040899150081364584, 0.035752474230767779, 0.032612587746522481, 0.029647124439716066, 0.026623584781979872, 0.023602394090296928, 0.023328734054908744, 0.023082347540308915, 0.021761175133608316, 0.021441899635391642, 0.019546511877436699, 0.018959012866791376, 0.014623856308055991, 0.0085523019067910867, 0.0054011816699100022, 0.0034033874247552851, 0.0011149629284919456]\n",
      "83\n"
     ]
    }
   ],
   "source": [
    "X = AnalysisOfResults(prefix, 0.05, outlier_model='knn')"
   ]
  },
  {
   "cell_type": "code",
   "execution_count": 58,
   "metadata": {
    "collapsed": false
   },
   "outputs": [
    {
     "name": "stdout",
     "output_type": "stream",
     "text": [
      "83\n"
     ]
    }
   ],
   "source": [
    "print(len([p.confidence for p in X.pairs]))"
   ]
  },
  {
   "cell_type": "code",
   "execution_count": null,
   "metadata": {
    "collapsed": true
   },
   "outputs": [],
   "source": [
    "from IPython.html.widgets import widget, interact, interactive, fixed, FloatSlider, Dropdown\n",
    "        \n",
    "@interact(threshold = (0,1,0.01))\n",
    "def dummy(threshold):\n",
    "    fig = plt.figure(figsize=(12,12))\n",
    "    fig.set_size_inches(13,6) \n",
    "#     Y = AnalysisOfResults(files, prefix, threshold, outlier_model='all')\n",
    "#     Y.plot(threshold)\n",
    "    X = AnalysisOfResults(prefix, threshold, outlier_model='knn')\n",
    "    X.plot(threshold)\n",
    "    plt.show()"
   ]
  },
  {
   "cell_type": "code",
   "execution_count": null,
   "metadata": {
    "collapsed": true
   },
   "outputs": [],
   "source": []
  },
  {
   "cell_type": "code",
   "execution_count": null,
   "metadata": {
    "collapsed": true
   },
   "outputs": [],
   "source": []
  },
  {
   "cell_type": "code",
   "execution_count": null,
   "metadata": {
    "collapsed": true
   },
   "outputs": [],
   "source": []
  },
  {
   "cell_type": "code",
   "execution_count": null,
   "metadata": {
    "collapsed": true
   },
   "outputs": [],
   "source": []
  },
  {
   "cell_type": "code",
   "execution_count": null,
   "metadata": {
    "collapsed": true
   },
   "outputs": [],
   "source": []
  }
 ],
 "metadata": {
  "kernelspec": {
   "display_name": "Python 3",
   "language": "python",
   "name": "python3"
  },
  "language_info": {
   "codemirror_mode": {
    "name": "ipython",
    "version": 3
   },
   "file_extension": ".py",
   "mimetype": "text/x-python",
   "name": "python",
   "nbconvert_exporter": "python",
   "pygments_lexer": "ipython3",
   "version": "3.4.3"
  }
 },
 "nbformat": 4,
 "nbformat_minor": 0
}
