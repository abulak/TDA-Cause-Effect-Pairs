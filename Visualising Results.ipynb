{
 "cells": [
  {
   "cell_type": "code",
   "execution_count": 2,
   "metadata": {
    "collapsed": false,
    "scrolled": true
   },
   "outputs": [
    {
     "name": "stderr",
     "output_type": "stream",
     "text": [
      "/usr/lib/python3.5/site-packages/matplotlib/__init__.py:1318: UserWarning:  This call to matplotlib.use() has no effect\n",
      "because the backend has already been chosen;\n",
      "matplotlib.use() must be called *before* pylab, matplotlib.pyplot,\n",
      "or matplotlib.backends is imported for the first time.\n",
      "\n",
      "  warnings.warn(_use_error_msg)\n"
     ]
    }
   ],
   "source": [
    "import numpy as np\n",
    "import matplotlib.pyplot as plt\n",
    "%matplotlib inline\n",
    "\n",
    "from matplotlib.collections import LineCollection\n",
    "from os import listdir\n",
    "\n",
    "import re\n",
    "\n",
    "import sys\n",
    "import os\n",
    "# sys.path.append(\"/home/kalmar/Mathematics/Software/Dionysus/build-x64/bindings/python/\")\n",
    "# sys.path.append(\"/home/kalmar/Dropbox/devel/Dionysus-python3/build-i686/bindings/python/\")\n",
    "# import dionysus\n",
    "\n",
    "%reload_ext autoreload\n",
    "%autoreload 2\n",
    "\n",
    "from TDA import Pair"
   ]
  },
  {
   "cell_type": "code",
   "execution_count": 3,
   "metadata": {
    "collapsed": false
   },
   "outputs": [
    {
     "name": "stdout",
     "output_type": "stream",
     "text": [
      "75\n"
     ]
    }
   ],
   "source": [
    "prefix = 'sampled-2000'\n",
    "pattern = re.compile('pair[0-9]{4,}$')\n",
    "files = sorted([x for x in os.listdir(os.path.join(os.getcwd(),prefix)) if pattern.match(x)])\n",
    "print(len(files))"
   ]
  },
  {
   "cell_type": "code",
   "execution_count": null,
   "metadata": {
    "collapsed": false
   },
   "outputs": [],
   "source": [
    "# p = Pair(prefix,files[0])"
   ]
  },
  {
   "cell_type": "code",
   "execution_count": null,
   "metadata": {
    "collapsed": true
   },
   "outputs": [],
   "source": [
    "# for each in files[3:]:\n",
    "#     p=Pair(prefix,each)"
   ]
  },
  {
   "cell_type": "code",
   "execution_count": 4,
   "metadata": {
    "collapsed": false
   },
   "outputs": [],
   "source": [
    "class PairResults:\n",
    "    try:\n",
    "        all_pairs_metadata = np.loadtxt(os.path.join(os.getcwd(), 'pairs', 'pairmeta.txt'))\n",
    "    except FileNotFoundError:\n",
    "        print(\"No metadata found! All is set to 0\")\n",
    "        pairs_metadata = np.zeros((88, 6))\n",
    "    \n",
    "    def __init__(self, prefix, name, threshold=0, outlier_model='knn'):\n",
    "        if name[-4:] == '.txt':\n",
    "            name = name[:-4]\n",
    "        self.name = name\n",
    "        self.number = int(name[-4:])\n",
    "        self.metadata = self.all_pairs_metadata[self.number-1] \n",
    "        \n",
    "        if self.metadata[1] == 1:\n",
    "            self.causality_true = 1\n",
    "        else:\n",
    "            self.causality_true = -1\n",
    "        \n",
    "        self.weight = self.metadata[5]\n",
    "        \n",
    "        self.directory = os.path.join(os.getcwd(),prefix,name)\n",
    "        if outlier_model == 'knn':\n",
    "            self.results = ResultsModel(np.loadtxt(os.path.join(self.directory,\"scores_knn\")),threshold)\n",
    "        elif outlier_model == 'all':\n",
    "            self.results = ResultsModel(np.loadtxt(os.path.join(self.directory,\"scores_all\")),threshold)\n",
    "        else:\n",
    "            print(\"PairResults: unknown model?!\")\n",
    "\n",
    "class ResultsModel:\n",
    "    \n",
    "    def __init__(self, results, threshold):\n",
    "        self.x_causes_y_scores = results[0]\n",
    "        self.y_causes_x_scores = results[1]\n",
    "        #----------------------\n",
    "        #  causality_inferred = 0 (undecided)\n",
    "        #                   1 (X->Y)\n",
    "        #                  -1 (Y->X)\n",
    "        #---------------------\n",
    "        self.causality_inferred = self.decide_causality()\n",
    "        \n",
    "    def decide_causality(self, threshold=0):\n",
    "        tmp = self.compute_confidence()\n",
    "        self.confidence = np.abs(tmp)        \n",
    "        if np.abs(tmp) <= threshold:\n",
    "            return 0\n",
    "        else:\n",
    "            return tmp/np.abs(tmp)\n",
    "        \n",
    "    def compute_confidence(self):\n",
    "        integral = sum(self.x_causes_y_scores - self.y_causes_x_scores)/self.x_causes_y_scores.shape[0]\n",
    "        return integral"
   ]
  },
  {
   "cell_type": "code",
   "execution_count": 5,
   "metadata": {
    "collapsed": false,
    "scrolled": false
   },
   "outputs": [
    {
     "name": "stdout",
     "output_type": "stream",
     "text": [
      "75\n",
      "0.6334640625\n",
      "75\n",
      "0.6334640625\n"
     ]
    },
    {
     "data": {
      "image/png": "[encoded data removed]",
      "text/plain": [
       "<matplotlib.figure.Figure at 0xac7cb38c>"
      ]
     },
     "metadata": {},
     "output_type": "display_data"
    },
    {
     "data": {
      "text/plain": [
       "None"
      ]
     },
     "metadata": {},
     "output_type": "display_data"
    }
   ],
   "source": [
    "class AnalysisOfResults:\n",
    "        \n",
    "    def __init__(self, files, prefix='test', threshold=0, outlier_model='knn'):\n",
    "        \n",
    "        self.pairs = [PairResults(prefix, file, outlier_model) for file in files]\n",
    "        self.pairs.sort(key=lambda x: x.results.confidence, reverse=True)\n",
    "        self.pairs_decided = [x for x in self.pairs if x.results.causality_inferred != 0]\n",
    "        print(len(self.pairs_decided))\n",
    "        self.decisions_vector = [x.results.causality_inferred for x in self.pairs_decided]\n",
    "\n",
    "        self.decisions_got_right = [x.results.causality_inferred == x.causality_true \n",
    "                                    for x in self.pairs_decided]\n",
    "        self.weighted_decisions = [x.weight*(x.results.causality_inferred == x.causality_true)\n",
    "                                       for x in self.pairs_decided]\n",
    "        \n",
    "        self.all_weights = [x.weight for x in self.pairs_decided]\n",
    "#         self.weighted_efficiency = sum(self.weighted_decisions)/sum(self.all_weights)\n",
    "        \n",
    "        #auxilary helper functions\n",
    "        \n",
    "#         self.pair_confidences = [[result.number, result.confidence] \n",
    "#                           for result in self.results if result.right != -1]\n",
    "#         self.correct_pair_confidences = [[result.number, result.confidence] \n",
    "#                                   for result in self.results if result.right == 1]\n",
    "#         self.wrong_pair_confidences = [[result.number, result.confidence] \n",
    "#                                   for result in self.results if result.right == 0]\n",
    "#         self.undecided_pair_confidences = [[result.number, result.confidence] \n",
    "#                                   for result in self.results if result.right == -1]\n",
    "\n",
    "    def weighted_efficiency(self,i):\n",
    "        return sum(self.weighted_decisions[:i])/sum(self.all_weights[:i])\n",
    "        \n",
    "    def plot(self, threshold=0):       \n",
    "        max = len([x for x in self.pairs if \n",
    "                   x.results.confidence >= threshold and \n",
    "                   x.results.causality_inferred != 0])\n",
    "        to_plot = [self.weighted_efficiency(i) for i in range(1,len(self.decisions_vector)+1)]\n",
    "        plt.plot(to_plot, color = 'black', alpha = 0.2)\n",
    "        plt.plot(to_plot[:max], alpha = 0.6)\n",
    "        plt.ylim(0,1.05)\n",
    "        print(to_plot[max-1])\n",
    "        \n",
    "from IPython.html.widgets import widget, interact, interactive, fixed, FloatSlider, Dropdown\n",
    "        \n",
    "@interact(threshold = (0,1,0.01))\n",
    "def dummy(threshold):\n",
    "    fig = plt.figure(figsize=(12,12))\n",
    "    fig.set_size_inches(13,6) \n",
    "    Y = AnalysisOfResults(files, prefix, threshold, outlier_model='all')\n",
    "    Y.plot(threshold)\n",
    "    X = AnalysisOfResults(files, prefix, threshold, outlier_model='knn')\n",
    "    X.plot(threshold)\n",
    "    plt.show()"
   ]
  },
  {
   "cell_type": "code",
   "execution_count": null,
   "metadata": {
    "collapsed": false
   },
   "outputs": [],
   "source": [
    "results = np.loadtxt('./' + prefix + '/' + prefix + '_results')\n",
    "pairs = [Pair(x) for x in results]\n",
    "pairs.sort(key = lambda x: x.confidence, reverse = True)"
   ]
  },
  {
   "cell_type": "code",
   "execution_count": null,
   "metadata": {
    "collapsed": false
   },
   "outputs": [],
   "source": []
  },
  {
   "cell_type": "code",
   "execution_count": null,
   "metadata": {
    "collapsed": false
   },
   "outputs": [],
   "source": [
    "%timeit Pair(files[37]) #on battery"
   ]
  },
  {
   "cell_type": "code",
   "execution_count": null,
   "metadata": {
    "collapsed": false
   },
   "outputs": [],
   "source": [
    "%timeit Pair(files[37]) #on AC"
   ]
  },
  {
   "cell_type": "code",
   "execution_count": null,
   "metadata": {
    "collapsed": false
   },
   "outputs": [],
   "source": [
    "files[37]"
   ]
  },
  {
   "cell_type": "code",
   "execution_count": null,
   "metadata": {
    "collapsed": false
   },
   "outputs": [],
   "source": [
    "x = [p.right for p in pairs]\n",
    "z = x.count(1) / (x.count(1) + x.count(0))\n",
    "print(x)\n",
    "print(z)"
   ]
  },
  {
   "cell_type": "code",
   "execution_count": null,
   "metadata": {
    "collapsed": false
   },
   "outputs": [],
   "source": [
    "Y = AnalysisOfResults(prefix, 0.0)\n",
    "Y.results[0].x_noninj\n",
    "Y.results[0].y_noninj\n",
    "Y.results[0].true_causality\n",
    "len(Y.results_raw)\n"
   ]
  },
  {
   "cell_type": "code",
   "execution_count": null,
   "metadata": {
    "collapsed": false
   },
   "outputs": [],
   "source": [
    "np.asarray(Y.wrong_pair_confidences, dtype = int)[:,0]"
   ]
  },
  {
   "cell_type": "code",
   "execution_count": null,
   "metadata": {
    "collapsed": false
   },
   "outputs": [],
   "source": [
    "np.loadtxt(\"asdfds\")"
   ]
  },
  {
   "cell_type": "code",
   "execution_count": null,
   "metadata": {
    "collapsed": true
   },
   "outputs": [],
   "source": []
  }
 ],
 "metadata": {
  "kernelspec": {
   "display_name": "Python 3",
   "language": "python",
   "name": "python3"
  },
  "language_info": {
   "codemirror_mode": {
    "name": "ipython",
    "version": 3
   },
   "file_extension": ".py",
   "mimetype": "text/x-python",
   "name": "python",
   "nbconvert_exporter": "python",
   "pygments_lexer": "ipython3",
   "version": "3.5.0"
  }
 },
 "nbformat": 4,
 "nbformat_minor": 0
}
